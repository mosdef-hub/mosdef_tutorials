{
 "cells": [
  {
   "cell_type": "markdown",
   "metadata": {
    "collapsed": true
   },
   "source": [
    "# mBuild Tutorial 08: Building Polymers\n",
    "\n",
    "This tutorial demonstrates how to build polymers using the built-in `Polymer` class."
   ]
  },
  {
   "cell_type": "markdown",
   "metadata": {},
   "source": [
    "As in the prior tutorials, we need to first import mbuild (here as `mb`)."
   ]
  },
  {
   "cell_type": "code",
   "execution_count": null,
   "metadata": {},
   "outputs": [],
   "source": [
    "import mbuild as mb"
   ]
  },
  {
   "cell_type": "markdown",
   "metadata": {},
   "source": [
    "In the prior tutorials we created a class for constructing a linear alkane chain and also used a similar built-in `Alkane` class. One could imagine that the same approach we took to create this class (i.e. successively adding CH2 units) could be further generalized to support the creation of any linear polymer. In fact, mBuild contains a class that does just this, `mbuild.Polymer`.\n",
    "\n",
    "Here, we'll explore how `Polymer` works by creating the familiar linear alkane, along with a PEG (polyethylene glycol) molecule. \n",
    "\n",
    "To be flexible, the `Polymer` class accepts, as arguments, repeat units (defined as `Compounds`), thus we will first define `Compound` classes for our CH2 and oxygen monomer units (with the appropriate `Ports`)."
   ]
  },
  {
   "cell_type": "code",
   "execution_count": null,
   "metadata": {},
   "outputs": [],
   "source": [
    "class CH2(mb.Compound):\n",
    "    def __init__(self):\n",
    "        super(CH2, self).__init__()\n",
    "        \n",
    "        mb.load('ch2.pdb', compound=self)\n",
    "        carbon = list(self.particles_by_name('C'))[0]\n",
    "        up_port = mb.Port(anchor=carbon, orientation=[0, 0, 1], separation=0.075)\n",
    "        down_port = mb.Port(anchor=carbon, orientation=[0, 0, -1], separation=0.075)\n",
    "        self.add(up_port, label='up')\n",
    "        self.add(down_port, label='down')\n",
    "\n",
    "class O(mb.Compound):\n",
    "    def __init__(self):\n",
    "        super(O, self).__init__()\n",
    "        \n",
    "        self.add(mb.Particle(name='O'))\n",
    "        up_port = mb.Port(anchor=self[0], orientation=[0, 0, 1], separation=0.075)\n",
    "        self.add(up_port, 'up')\n",
    "        down_port = mb.Port(anchor=self[0], orientation=[0, 0, -1], separation=0.075)\n",
    "        self.add(down_port, 'down')"
   ]
  },
  {
   "cell_type": "markdown",
   "metadata": {},
   "source": [
    "To create a simple linear alkane, we would need to simply pass CH2 as the monomer. \n",
    "- `n` defines the number of times this is repeated. \n",
    "- The `port_labels` argument tells mBuild the names of the two `Ports` to connect when stitching together the polymer.\n",
    "\n",
    "Note, this function does not place end caps; one could easily write a custom class for a specific family that calls the polymer class and adds the appropriate end caps. We are currently working on adding this functionality to the `Polymer` class, so expect this to be included in an upcoming mBuild release."
   ]
  },
  {
   "cell_type": "code",
   "execution_count": null,
   "metadata": {},
   "outputs": [],
   "source": [
    "alkane = mb.Polymer(monomers=CH2(), n=6, port_labels=('up', 'down'))\n",
    "alkane.visualize()"
   ]
  },
  {
   "cell_type": "markdown",
   "metadata": {},
   "source": [
    "To create PEG, we will now feed instances of both of the monomers (i.e. `CH2` and `O`) to the `monomers` argument of the `Polymer` class. \n",
    "\n",
    "We also need to provide a few additional arguments. \n",
    "- `sequence` provides a string of characters where each unique character represents one repetition of a monomer. Here, `AAB` means that we want two `CH2`'s for each `O` (`CH2` is defined as `A` because it is passed first, `O` is `B` as it is second).  \n",
    "- As before, the `n` argument specifies the number of repeat units, however in this case, it is how many times to repeat the pattern.  That is, `n=1` would define a two `CH2` groups and an `O`.  "
   ]
  },
  {
   "cell_type": "code",
   "execution_count": null,
   "metadata": {},
   "outputs": [],
   "source": [
    "peg4 = mb.Polymer(monomers=(CH2(), O()), sequence='AAB', n=4, port_labels=('up', 'down'))\n",
    "peg4.visualize(show_ports=True)"
   ]
  },
  {
   "cell_type": "markdown",
   "metadata": {},
   "source": [
    "The sequence argument can be defined with any arbitrary pattern.  For example, while not realistic from a chemistry standpoint, one could trivially create a rather complex sequence, such as `AABAABBBB`."
   ]
  },
  {
   "cell_type": "code",
   "execution_count": null,
   "metadata": {},
   "outputs": [],
   "source": [
    "polymer = mb.Polymer(monomers=(CH2(), O()), sequence='AABAABBBB', n=3, port_labels=('up', 'down'))\n",
    "polymer.visualize()"
   ]
  },
  {
   "cell_type": "markdown",
   "metadata": {
    "collapsed": true
   },
   "source": [
    "Let us now consider creating a semifluorinated alkane using the polymer class (i.e., one half is an alkane, R_H, the other half is a perfluroalkane, R_F).  We first need to define a CF2 group, in the same way we defined CH2."
   ]
  },
  {
   "cell_type": "code",
   "execution_count": null,
   "metadata": {},
   "outputs": [],
   "source": [
    "class CF2(mb.Compound):\n",
    "    def __init__(self):\n",
    "        super(CF2, self).__init__()\n",
    "        \n",
    "        mb.load('cf2.pdb', compound=self)\n",
    "        carbon = list(self.particles_by_name('C'))[0]\n",
    "        up_port = mb.Port(anchor=carbon, orientation=[0, 0, 1], separation=0.075)\n",
    "        down_port = mb.Port(anchor=carbon, orientation=[0, 0, -1], separation=0.075)\n",
    "        self.add(up_port, label='up')\n",
    "        self.add(down_port, label='down')\n",
    "\n",
    "\n",
    "CF2().visualize(show_ports=True)"
   ]
  },
  {
   "cell_type": "markdown",
   "metadata": {},
   "source": [
    "There are multiple ways to create the semifluorinated alkane; here we will consider two different approaches that make use of polymer class.  First, we simply define the sequence to describe the entire polymer, setting `n=1`."
   ]
  },
  {
   "cell_type": "code",
   "execution_count": null,
   "metadata": {},
   "outputs": [],
   "source": [
    "semifluorinated_hexane = mb.Polymer(monomers=(CH2(), CF2()), sequence='AAABBB', n=1, port_labels=('up', 'down'))\n",
    "semifluorinated_hexane.visualize()"
   ]
  },
  {
   "cell_type": "markdown",
   "metadata": {},
   "source": [
    "The approach above works fine, but requires changing the sequence argument to adjust the length of each block in the polymer.  \n",
    "\n",
    "Alternatively, we can take advantage of the flexible nature of mBuild, in that the `Polymer` class outputs `Compounds` and can accept as input `Compounds` (i.e., it is not limited to simple monomers). \n",
    "\n",
    "As such, let us call the `Polymer` class 3 times\n",
    "- create the alkane block\n",
    "- create the fluorinated block\n",
    "- stitch the two blocks together\n"
   ]
  },
  {
   "cell_type": "code",
   "execution_count": null,
   "metadata": {},
   "outputs": [],
   "source": [
    "alkane_block = mb.Polymer(monomers=CH2(), n=3, port_labels=('up', 'down'))\n",
    "pfa_block = mb.Polymer(monomers=CF2(), n=3, port_labels=('up', 'down'))\n",
    "\n",
    "semifluorinated_hexane = mb.Polymer(monomers=(alkane_block, pfa_block), sequence='AB', n=1, port_labels=('up', 'down'))\n",
    "\n",
    "semifluorinated_hexane.visualize()"
   ]
  },
  {
   "cell_type": "markdown",
   "metadata": {},
   "source": [
    "This of course can be wrapped in a flexible class that takes the length of each block as an argument, similar to what has been done in prior tutorials.  "
   ]
  },
  {
   "cell_type": "code",
   "execution_count": null,
   "metadata": {},
   "outputs": [],
   "source": [
    "class Semifluorinated(mb.Compound):\n",
    "    def __init__(self, alkane_length, pfa_length):\n",
    "        super(Semifluorinated, self).__init__()\n",
    "        \n",
    "        \n",
    "        alkane_block = mb.Polymer(monomers=CH2(), n=alkane_length, port_labels=('up', 'down'))\n",
    "        pfa_block = mb.Polymer(monomers=CF2(), n=pfa_length, port_labels=('up', 'down'))\n",
    "\n",
    "        semifluorinated_hexane = mb.Polymer(monomers=(alkane_block, pfa_block), sequence='AB', n=1, port_labels=('up', 'down'))        \n",
    "        self.add(semifluorinated_hexane)\n",
    "\n",
    "semifluorinated_alkane = Semifluorinated(alkane_length=5, pfa_length=3)\n",
    "semifluorinated_alkane.visualize()"
   ]
  },
  {
   "cell_type": "markdown",
   "metadata": {
    "collapsed": true
   },
   "source": [
    "## Recap\n",
    "\n",
    "The goal of this tutorial was to demonstrate how to use mBuild's `Polymer` class to create polymers with user-defined sequences.\n",
    "\n",
    "The next tutorial will teach you how you can use mBuild to functionalize surfaces."
   ]
  },
  {
   "cell_type": "code",
   "execution_count": null,
   "metadata": {},
   "outputs": [],
   "source": []
  }
 ],
 "metadata": {
  "kernelspec": {
   "display_name": "Python 3",
   "language": "python",
   "name": "python3"
  },
  "language_info": {
   "codemirror_mode": {
    "name": "ipython",
    "version": 3
   },
   "file_extension": ".py",
   "mimetype": "text/x-python",
   "name": "python",
   "nbconvert_exporter": "python",
   "pygments_lexer": "ipython3",
   "version": "3.5.5"
  }
 },
 "nbformat": 4,
 "nbformat_minor": 2
}

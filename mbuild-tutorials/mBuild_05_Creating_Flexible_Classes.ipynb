{
 "cells": [
  {
   "cell_type": "markdown",
   "metadata": {
    "collapsed": true
   },
   "source": [
    "# mBuild Tutorial 05: Creating Flexible Classes\n",
    "\n",
    "This tutorial demonstrates how to write flexible classes that can be used to create families of `Compounds`.  In particular, the previous class we wrote to create butane is extended to allow construction of linear alkanes of arbitrary chain length."
   ]
  },
  {
   "cell_type": "markdown",
   "metadata": {},
   "source": [
    "As in the prior tutorials, we need to first import mbuild (here as `mb`)."
   ]
  },
  {
   "cell_type": "code",
   "execution_count": null,
   "metadata": {},
   "outputs": [],
   "source": [
    "import mbuild as mb"
   ]
  },
  {
   "cell_type": "markdown",
   "metadata": {},
   "source": [
    "In the previous few tutorials we found that we could create reusable `Compounds` by wrapping routines for creating particles and bonds into a class. However, if we have to create a new class for each molecule we want to examine this would still be quite cumbersome, particularly if we desired to screen over a large chemical parameter space. Fortunately, this problem is easily solved by including additional arguments with the class constructor. In this way, one or more top-level variables describing the molecular chemistry can be  used to create a whole family of molecules. \n",
    "\n",
    "We'll demonstrate that here by modifying the Butane class, defined in the previous tutorial, to now allow for the creation of any linear alkane by adding a `chain_length` argument.\n",
    "\n",
    "Note, rather than defining the CH2 and H classes again, we will use the classes for these that are included in the mBuild library."
   ]
  },
  {
   "cell_type": "code",
   "execution_count": null,
   "metadata": {},
   "outputs": [],
   "source": [
    "from mbuild.lib.atoms import H\n",
    "from mbuild.lib.moieties import CH2\n",
    "\n",
    "class Alkane(mb.Compound):\n",
    "    def __init__(self, chain_length):\n",
    "        super(Alkane, self).__init__()\n",
    "        \n",
    "        hydrogen = H()\n",
    "        last_unit = CH2()\n",
    "        mb.force_overlap(move_this=hydrogen,\n",
    "                         from_positions=hydrogen['up'],\n",
    "                         to_positions=last_unit['up'])\n",
    "        self.add(last_unit, label='ch2[$]')\n",
    "        self.add(hydrogen, label='up-cap')\n",
    "        for _ in range(chain_length - 1):\n",
    "            current_unit = CH2()\n",
    "            mb.force_overlap(move_this=current_unit,\n",
    "                             from_positions=current_unit['up'],\n",
    "                             to_positions=last_unit['down'])\n",
    "            self.add(current_unit, label='ch2[$]')\n",
    "            last_unit=current_unit\n",
    "        hydrogen = H()\n",
    "        mb.force_overlap(move_this=hydrogen,\n",
    "                         from_positions=hydrogen['up'],\n",
    "                         to_positions=last_unit['down'])\n",
    "        self.add(hydrogen, label='down-cap')"
   ]
  },
  {
   "cell_type": "markdown",
   "metadata": {},
   "source": [
    "We can now create any linear alkane by simply providing a different value for `chain_length` upon instantiation."
   ]
  },
  {
   "cell_type": "code",
   "execution_count": null,
   "metadata": {},
   "outputs": [],
   "source": [
    "ethane = Alkane(chain_length=2)\n",
    "ethane.visualize()"
   ]
  },
  {
   "cell_type": "code",
   "execution_count": null,
   "metadata": {},
   "outputs": [],
   "source": [
    "hexane = Alkane(chain_length=6)\n",
    "hexane.visualize()"
   ]
  },
  {
   "cell_type": "markdown",
   "metadata": {},
   "source": [
    "## Creation of an imidazole with an arbitrary side chain length"
   ]
  },
  {
   "cell_type": "markdown",
   "metadata": {
    "collapsed": true
   },
   "source": [
    "The linear alkane class above can be trivially modified to create more complex molecules, e.g. by changing the chemistry of one or both of the capping groups. Here, we will replace one of the hydrogen caps with an imidazole ring. \n",
    "\n",
    "Let us first start by creating an `Imidazole` class, loading in the structure from a MOL2 file, and adding a `Port` to the appropriate location for the tail."
   ]
  },
  {
   "cell_type": "code",
   "execution_count": null,
   "metadata": {},
   "outputs": [],
   "source": [
    "class Imidazole(mb.Compound):\n",
    "    def __init__(self):\n",
    "        super(Imidazole, self).__init__()\n",
    "        mb.load('cmim.mol2', compound=self)\n",
    "        #define C_tail to be the N atom for which the carbon tail will attach. \n",
    "        #This is the 4th entry in the datafile provided, hence self[3]\n",
    "        C_tail = self[3] \n",
    "        #add a port\n",
    "        self.add(mb.Port(anchor=C_tail, orientation=[0, 1, 0], separation=0.04), 'up')"
   ]
  },
  {
   "cell_type": "markdown",
   "metadata": {},
   "source": [
    "Next we will create a CMIM class that largely mimics the alkane class, but changes one capping hydrogen for an Imidazole. "
   ]
  },
  {
   "cell_type": "code",
   "execution_count": null,
   "metadata": {},
   "outputs": [],
   "source": [
    "from mbuild.lib.atoms import H\n",
    "from mbuild.lib.moieties import CH2\n",
    "\n",
    "class CMIM(mb.Compound):\n",
    "    def __init__(self, chain_length):\n",
    "        super(CMIM, self).__init__()\n",
    "        \n",
    "        hydrogen = H()\n",
    "        last_unit = CH2()\n",
    "        mb.force_overlap(move_this=hydrogen,\n",
    "                         from_positions=hydrogen['up'],\n",
    "                         to_positions=last_unit['up'])\n",
    "        self.add(last_unit, label='ch2[$]')\n",
    "        self.add(hydrogen, label='up-cap')\n",
    "        for _ in range(chain_length - 1):\n",
    "            current_unit = CH2()\n",
    "            mb.force_overlap(move_this=current_unit,\n",
    "                             from_positions=current_unit['up'],\n",
    "                             to_positions=last_unit['down'])\n",
    "            self.add(current_unit, label='ch2[$]')\n",
    "            last_unit=current_unit\n",
    "        imidazole = Imidazole()\n",
    "        mb.force_overlap(move_this=imidazole,\n",
    "                         from_positions=imidazole['up'],\n",
    "                         to_positions=last_unit['down'])\n",
    "        self.add(imidazole, label='down-cap')"
   ]
  },
  {
   "cell_type": "markdown",
   "metadata": {},
   "source": [
    "Here, we can use this to create 1-Butyl-3-methylimidazolium (bmim), by passing a side chain length of 4."
   ]
  },
  {
   "cell_type": "code",
   "execution_count": null,
   "metadata": {},
   "outputs": [],
   "source": [
    "bmim = CMIM(chain_length=4)\n",
    "bmim.visualize()"
   ]
  },
  {
   "cell_type": "markdown",
   "metadata": {
    "collapsed": true
   },
   "source": [
    "## Recap\n",
    "\n",
    "The goal of this tutorial was to demonstrate how to create `Compound` classes with arguments that can be used to tune the molecular chemistry.\n",
    "\n",
    "The next tutorial will teach you how to create systems of bulk molecules."
   ]
  },
  {
   "cell_type": "code",
   "execution_count": null,
   "metadata": {},
   "outputs": [],
   "source": []
  }
 ],
 "metadata": {
  "kernelspec": {
   "display_name": "Python 3",
   "language": "python",
   "name": "python3"
  },
  "language_info": {
   "codemirror_mode": {
    "name": "ipython",
    "version": 3
   },
   "file_extension": ".py",
   "mimetype": "text/x-python",
   "name": "python",
   "nbconvert_exporter": "python",
   "pygments_lexer": "ipython3",
   "version": "3.5.5"
  }
 },
 "nbformat": 4,
 "nbformat_minor": 2
}

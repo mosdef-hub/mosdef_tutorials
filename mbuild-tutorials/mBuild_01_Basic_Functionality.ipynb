{
 "cells": [
  {
   "cell_type": "markdown",
   "metadata": {
    "collapsed": true
   },
   "source": [
    "# mBuild Tutorial 01: Basic Functionality\n",
    "\n",
    "This tutorial will cover the basic usage of mBuild's `Compound` class and the creation of static bonds between atoms."
   ]
  },
  {
   "cell_type": "markdown",
   "metadata": {},
   "source": [
    "As in the prior tutorial, we need to first import mbuild (here as `mb`)."
   ]
  },
  {
   "cell_type": "code",
   "execution_count": null,
   "metadata": {},
   "outputs": [],
   "source": [
    "import mbuild as mb"
   ]
  },
  {
   "cell_type": "markdown",
   "metadata": {},
   "source": [
    "### The `Compound` class\n",
    "\n",
    "The base class of mBuild is the `Compound` class, which defines the primary building block used for constructing molecules. Molecules are constructed hierarchically; however, each level of the hierarchy inherits from the `Compound` class. This means that `Compounds` may contain other `Compounds`, and that the same methods and attributes are present for molecule components at any level of the hierarchy. mBuild `Compounds` feature [a variety of useful methods and attributes](http://mosdef-hub.github.io/mbuild/data_structures.html) to facilitate system construction.\n",
    "\n",
    "Here we will instantiate a `Compound` and view the available attributes and methods."
   ]
  },
  {
   "cell_type": "code",
   "execution_count": null,
   "metadata": {},
   "outputs": [],
   "source": [
    "my_compound = mb.Compound()\n",
    "dir(my_compound)"
   ]
  },
  {
   "cell_type": "markdown",
   "metadata": {},
   "source": [
    "### Creating `Compounds`\n",
    "\n",
    "There are several ways that `Compounds` can be created with mBuild. The simplest is to construct them from `Particles`. The `Particle` class is used to define `Compounds` residing at the lowest level of the containment hierarchy. Standard mBuild protocol is to define `Particle` names according to their elemental symbol (e.g. `'C'`), or to preface `Particle` names by an underscore for non-atomistic particles (e.g. `'_CH4'` for a united-atom methane). This aids in the atomtyping and forcefield application process (using the Foyer package) which will be addressed in later tutorials.\n",
    "\n",
    "Now, lets create a simple carbon `Particle`. [Several arguments are available](http://mosdef-hub.github.io/mbuild/data_structures.html#mbuild.compound.Compound) to set various `Compound`/`Particle` attributes upon instantiation. Here, we'll use the `name` argument to specify the element of our `Particle` and the `pos` argument to specify the location of the `Particle` in Cartesian space.\n",
    "\n",
    "**Important Note:** mBuild expects all distance units to be in nanometers."
   ]
  },
  {
   "cell_type": "code",
   "execution_count": null,
   "metadata": {},
   "outputs": [],
   "source": [
    "carbon = mb.Particle(name='C', pos=[1.0, 2.0, 3.0])\n",
    "carbon"
   ]
  },
  {
   "cell_type": "markdown",
   "metadata": {},
   "source": [
    "Now, we will create a simple CH2 moiety. (Don't worry about the undercoordinated carbon; we'll be using this later to piece together an alkane chain.)\n",
    "\n",
    "It is often easiest to create systems by working top-down through the molecule hierarchy. This can be achieved by creating an empty `Compound` to serve as a container to add other `Compounds` to.\n",
    "\n",
    "Here, we will take this approach by creating an empty `Compound` to which we will add a carbon `Particle` and two hydrogen `Particles`."
   ]
  },
  {
   "cell_type": "code",
   "execution_count": null,
   "metadata": {},
   "outputs": [],
   "source": [
    "ch2 = mb.Compound()"
   ]
  },
  {
   "cell_type": "markdown",
   "metadata": {},
   "source": [
    "Note, that we can provide a name to this compound (beyond just the variable name ch2)."
   ]
  },
  {
   "cell_type": "code",
   "execution_count": null,
   "metadata": {},
   "outputs": [],
   "source": [
    "ch2 = mb.Compound(name='ch2 compound')"
   ]
  },
  {
   "cell_type": "markdown",
   "metadata": {},
   "source": [
    "Now we need to create three `Particles`: one carbon and two hydrogens. We'll manually set the atomic positions such that they are reasonably representative of realistic atomic spacings."
   ]
  },
  {
   "cell_type": "code",
   "execution_count": null,
   "metadata": {},
   "outputs": [],
   "source": [
    "carbon = mb.Particle(pos=[0.0, 0.0, 0.0], name='C')\n",
    "hydrogen = mb.Particle(pos=[0.1, 0.0, 0.0], name='H')\n",
    "hydrogen2 = mb.Particle(pos=[-0.1, 0.0, 0.0], name='H')"
   ]
  },
  {
   "cell_type": "markdown",
   "metadata": {},
   "source": [
    "Now we need to add our three `Particles` to the hierarchy of our CH2 `Compound`. This can be done using the `add` method. The `new_child` argument allows you to specify what child `Compound` should be added to the hierarchy of the parent `Compound`. We can also pass a list of `Compounds` through the `new_child` argument to add multiple `Compounds` to the hierarchy at once. We'll take that approach here to add the three `Particles` we've just created to the hierarchy of the ch2 `Compound`."
   ]
  },
  {
   "cell_type": "code",
   "execution_count": null,
   "metadata": {},
   "outputs": [],
   "source": [
    "ch2.add(new_child=[carbon, hydrogen, hydrogen2])"
   ]
  },
  {
   "cell_type": "markdown",
   "metadata": {},
   "source": [
    "To view the children of a `Compound` (i.e. one level below in the molecule hierarchy) we can look at the `children` attribute."
   ]
  },
  {
   "cell_type": "code",
   "execution_count": null,
   "metadata": {},
   "outputs": [],
   "source": [
    "ch2.children"
   ]
  },
  {
   "cell_type": "markdown",
   "metadata": {},
   "source": [
    "We can use the `particles` method to view the `Particles` (i.e. those `Compounds` residing at the bottom of the molecule hierarchy) contained by a `Compound`. In this case, because our hierarchy only features two levels, this will be the same as `ch2.children`. Note that this method is written as a generator to conserve memory for large systems, so we'll need to convert to a `list`."
   ]
  },
  {
   "cell_type": "code",
   "execution_count": null,
   "metadata": {},
   "outputs": [],
   "source": [
    "list(ch2.particles())"
   ]
  },
  {
   "cell_type": "markdown",
   "metadata": {},
   "source": [
    "As we can see, our carbon `Particle` and two hydrogen `Particles` are now contained within our CH2 `Compound`. Now let's visualize our `Compound` to confirm we built this correctly."
   ]
  },
  {
   "cell_type": "code",
   "execution_count": null,
   "metadata": {},
   "outputs": [],
   "source": [
    "ch2.visualize()"
   ]
  },
  {
   "cell_type": "markdown",
   "metadata": {},
   "source": [
    "Although we've added our three `Particles` to the ch2 `Compound`, we have yet to define any bonds between them. To accomplish this, we can use the `Compound.add_bond()` method to specify our two C-H bonds."
   ]
  },
  {
   "cell_type": "code",
   "execution_count": null,
   "metadata": {},
   "outputs": [],
   "source": [
    "ch2.add_bond((carbon, hydrogen))\n",
    "ch2.add_bond((carbon, hydrogen2))\n",
    "ch2.visualize()"
   ]
  },
  {
   "cell_type": "markdown",
   "metadata": {},
   "source": [
    "Visually, we now see that our ch2 `Compound` contains three `Particles` and two C-H bonds.\n",
    "\n",
    "Note that this tutorial was designed to introduce the basics of the `Compound` class and that in most cases you will not need to build `Compounds` by creating each particle one-by-one and manually adding bonds. The following tutorials will demonstrate how software such as Avogadro can be used to create small molecular moieites and how `Compounds` can be stitched together using `Ports` which can automatically create bonds for us."
   ]
  },
  {
   "cell_type": "markdown",
   "metadata": {
    "collapsed": true
   },
   "source": [
    "## Recap\n",
    "\n",
    "The goal of this tutorial was to demonstrate the basics of mBuild's `Compound` class: how to instantiate `Compounds` and provide useful names, how to add `Compounds` to the molecule hierarchy of other `Compounds`, how to query which child `Compounds` and `Particles` reside in a `Compound`'s hierarchy, and how to define bonds between `Compounds`.\n",
    "\n",
    "In the next tutorial you will learn about wrapping routines for creating `Compounds` into classes for reusability."
   ]
  },
  {
   "cell_type": "code",
   "execution_count": null,
   "metadata": {},
   "outputs": [],
   "source": []
  }
 ],
 "metadata": {
  "kernelspec": {
   "display_name": "Python 3",
   "language": "python",
   "name": "python3"
  },
  "language_info": {
   "codemirror_mode": {
    "name": "ipython",
    "version": 3
   },
   "file_extension": ".py",
   "mimetype": "text/x-python",
   "name": "python",
   "nbconvert_exporter": "python",
   "pygments_lexer": "ipython3",
   "version": "3.5.5"
  }
 },
 "nbformat": 4,
 "nbformat_minor": 2
}

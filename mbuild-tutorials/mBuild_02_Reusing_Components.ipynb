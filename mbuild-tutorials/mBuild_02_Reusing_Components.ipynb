{
 "cells": [
  {
   "cell_type": "markdown",
   "metadata": {
    "collapsed": true
   },
   "source": [
    "# mBuild Tutorial 02: Reusing Components\n",
    "\n",
    "This tutorial demonstrates how to create reusable components in mBuild, through definition of custom classes that inherit from the mbuild `Compound` class."
   ]
  },
  {
   "cell_type": "markdown",
   "metadata": {},
   "source": [
    "As in the prior tutorials, we need to first import mbuild (here as `mb`)."
   ]
  },
  {
   "cell_type": "code",
   "execution_count": null,
   "metadata": {},
   "outputs": [],
   "source": [
    "import mbuild as mb"
   ]
  },
  {
   "cell_type": "markdown",
   "metadata": {},
   "source": [
    "It would be quite tedious to have to perform each of the steps in prior tutorial (i.e. defining the particle positions and bonds) every time we wanted to create a new CH2 `Compound`. Fortunately, this problem is easily solved by wrapping these routines together into a class.\n",
    "\n",
    "Here, we'll create a class for our CH2 moiety using the same commands we used in prior tutorial so that we can easily reuse this piece when constructing more complex molecules."
   ]
  },
  {
   "cell_type": "code",
   "execution_count": null,
   "metadata": {},
   "outputs": [],
   "source": [
    "class CH2(mb.Compound):\n",
    "    def __init__(self):\n",
    "        super(CH2, self).__init__()\n",
    "        \n",
    "        carbon = mb.Particle(pos=[0.0, 0.0, 0.0], name='C')\n",
    "        hydrogen = mb.Particle(pos=[0.1, 0.0, 0.0], name='H')\n",
    "        hydrogen2 = mb.Particle(pos=[-0.1, 0.0, 0.0], name='H')\n",
    "        self.add([carbon, hydrogen, hydrogen2])\n",
    "        self.add_bond((carbon, hydrogen))\n",
    "        self.add_bond((carbon, hydrogen2))"
   ]
  },
  {
   "cell_type": "markdown",
   "metadata": {},
   "source": [
    "As we can see, our class definition contains the same commands we just used in the prior tutorial the create the ch2 `Compound`; however, we have replaced `ch2` with `self` so that these commands will be performed on any instance of our `CH2` class. Additionally, since we want our class instance to be an mBuild `Compound`, we specify that our `CH2` class should inherit from `mb.Compound`.\n",
    "\n",
    "Now we'll create an instance of our `CH2` class and visualize it."
   ]
  },
  {
   "cell_type": "code",
   "execution_count": null,
   "metadata": {},
   "outputs": [],
   "source": [
    "ch2 = CH2()\n",
    "ch2.visualize()"
   ]
  },
  {
   "cell_type": "markdown",
   "metadata": {},
   "source": [
    "Because we have inherited from `mb.Compound`, our `CH2` class has access to all of the attributes and methods of `Compound`. We can thus perform actions such as querying the particles contained within our `CH2` instance."
   ]
  },
  {
   "cell_type": "code",
   "execution_count": null,
   "metadata": {},
   "outputs": [],
   "source": [
    "list(ch2.particles())"
   ]
  },
  {
   "cell_type": "markdown",
   "metadata": {},
   "source": [
    "We can also rename our `CH2` if we would like."
   ]
  },
  {
   "cell_type": "code",
   "execution_count": null,
   "metadata": {},
   "outputs": [],
   "source": [
    "ch2.name = 'myCH2'\n",
    "ch2"
   ]
  },
  {
   "cell_type": "markdown",
   "metadata": {},
   "source": [
    "While there are instances where creating `Compounds` particle-by-particle is useful, this process can become a bit tedious. It's much easier to create `Compounds` by loading pre-assembled building blocks. These can easily be created using software such as [Avogadro](https://avogadro.cc/).\n",
    "\n",
    "The `load` function can generate mBuild `Compounds` from a variety of common file formats (e.g. PDB, MOL2) that contain particle positions and bonds. Under the hood, mBuild uses readers from the [MDTraj package](http://mdtraj.org). Users are referred to the [MDTraj source](https://github.com/mdtraj/mdtraj/blob/b05b4637aaeda95fdf284a57ee2a37bc8e453ea1/mdtraj/core/trajectory.py#L77-L79) for a list of acceptable file formats. [Several additional formats](http://mdtraj.org/1.9.0/load_functions.html#format-specific-loading-functions) are also supported, but require an additional `topology` argument be specified.\n",
    "\n",
    "Let's take a look at the docstring for the `load` function."
   ]
  },
  {
   "cell_type": "code",
   "execution_count": null,
   "metadata": {},
   "outputs": [],
   "source": [
    "help(mb.load)"
   ]
  },
  {
   "cell_type": "markdown",
   "metadata": {},
   "source": [
    "Now we'll use `load` to again create a CH2 `Compound`, this time by loading from a PDB structure file."
   ]
  },
  {
   "cell_type": "code",
   "execution_count": null,
   "metadata": {},
   "outputs": [],
   "source": [
    "class CH2(mb.Compound):\n",
    "    def __init__(self):\n",
    "        super(CH2, self).__init__()\n",
    "        \n",
    "        mb.load('ch2.pdb', compound=self)"
   ]
  },
  {
   "cell_type": "markdown",
   "metadata": {},
   "source": [
    "Note that by providing the `compound=self` argument to `mb.load` we will be loading the atom and bond information contained within our PDB file directly into our `CH2` class instance.\n",
    "\n",
    "**Note:** mBuild does not infer bonds (although you can achieve this with the [`generate_bonds`](http://mosdef-hub.github.io/mbuild/data_structures.html#mbuild.compound.Compound.generate_bonds) method). All bonds must be explicitly defined in your code or in a structure input file.\n",
    "\n",
    "If we take a look at an instance of this new `CH2` class, we will see that we get a similar result to when we constructed the `Compound` manually and that both particle positions and bond information have been loaded successfully."
   ]
  },
  {
   "cell_type": "code",
   "execution_count": null,
   "metadata": {},
   "outputs": [],
   "source": [
    "ch2 = CH2()\n",
    "ch2.visualize()"
   ]
  },
  {
   "cell_type": "markdown",
   "metadata": {
    "collapsed": true
   },
   "source": [
    "## Recap\n",
    "\n",
    "The goal of this tutorial was to demonstrate how routines for creating mBuild `Compounds` can be wrapped into classes, allowing for reusability. We also found that we can load information from structure files such as PDB or MOL2 to create `Compounds`.\n",
    "\n",
    "The next tutorial will demonstrate how another of mBuild's base classes, the `Port` class, can be used to create connections (bonds) between `Compounds` and move them in space."
   ]
  },
  {
   "cell_type": "code",
   "execution_count": null,
   "metadata": {},
   "outputs": [],
   "source": []
  }
 ],
 "metadata": {
  "kernelspec": {
   "display_name": "Python 3",
   "language": "python",
   "name": "python3"
  },
  "language_info": {
   "codemirror_mode": {
    "name": "ipython",
    "version": 3
   },
   "file_extension": ".py",
   "mimetype": "text/x-python",
   "name": "python",
   "nbconvert_exporter": "python",
   "pygments_lexer": "ipython3",
   "version": "3.5.5"
  }
 },
 "nbformat": 4,
 "nbformat_minor": 2
}

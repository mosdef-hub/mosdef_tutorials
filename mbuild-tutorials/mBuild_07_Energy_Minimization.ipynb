{
 "cells": [
  {
   "cell_type": "markdown",
   "metadata": {
    "collapsed": true
   },
   "source": [
    "# mBuild Tutorial 07: Energy Minimization\n",
    "\n",
    "This tutorial demonstrates how to perform energy minimization of mBuild `Compounds` through use of the `energy_minimization` function."
   ]
  },
  {
   "cell_type": "markdown",
   "metadata": {},
   "source": [
    "As in the prior tutorials, we need to first import mbuild (here as `mb`)."
   ]
  },
  {
   "cell_type": "code",
   "execution_count": null,
   "metadata": {},
   "outputs": [],
   "source": [
    "import mbuild as mb"
   ]
  },
  {
   "cell_type": "markdown",
   "metadata": {},
   "source": [
    "Many of geometries of the molecules we've created in the prior tutorials tend to not look entirely realistic (e.g. all backbone atoms featuring 180&deg; angles in the alkane molecules, all hydrogen atoms in plane, etc.). This can be addressed by placing `Particles` and `Ports` in more realistic locations, either manually or by using energy minimized inputs. \n",
    "\n",
    "Alternatively, a `Compound` can be constructed and then energy minimized, either through a simulation engine or using the `energy_minimization` function in mBuild (which uses the [Open Babel](http://openbabel.org/dev-api/) toolkit) to yield more realistic geometries for your prototypes.\n",
    "\n",
    "**Note:** In many cases it is easier to create systems with unrealistic configurations (e.g., creating dense monolayer films) to help avoid overlapping atoms.\n",
    "\n",
    "Here, we will consider energy minimizing a `Compound`.  First, we will employ the help command to see the doc string associated with the command."
   ]
  },
  {
   "cell_type": "code",
   "execution_count": null,
   "metadata": {},
   "outputs": [],
   "source": [
    "help(mb.Compound.energy_minimization)"
   ]
  },
  {
   "cell_type": "markdown",
   "metadata": {},
   "source": [
    "As an example, we will consider hexane."
   ]
  },
  {
   "cell_type": "code",
   "execution_count": null,
   "metadata": {},
   "outputs": [],
   "source": [
    "from mbuild.examples import Alkane\n",
    "hexane = Alkane(6)\n",
    "hexane.visualize()"
   ]
  },
  {
   "cell_type": "code",
   "execution_count": null,
   "metadata": {},
   "outputs": [],
   "source": [
    "hexane.energy_minimization()\n",
    "hexane.visualize()"
   ]
  },
  {
   "cell_type": "markdown",
   "metadata": {},
   "source": [
    "The maximum number of iterations, the algorithm, and forcefield can all be easily toggled (see the help above)."
   ]
  },
  {
   "cell_type": "code",
   "execution_count": null,
   "metadata": {},
   "outputs": [],
   "source": [
    "hexane = Alkane(6)\n",
    "hexane.energy_minimization(steps=4000, algorithm='steep', forcefield='GAFF')\n",
    "hexane.visualize()"
   ]
  },
  {
   "cell_type": "markdown",
   "metadata": {
    "collapsed": true
   },
   "source": [
    "A system can then be constructed, as in the last tutorial, using the energy minimized configuration as input. "
   ]
  },
  {
   "cell_type": "code",
   "execution_count": null,
   "metadata": {},
   "outputs": [],
   "source": [
    "box = mb.Box(lengths=[5, 5, 5])\n",
    "\n",
    "box_of_hexanes = mb.fill_box(compound=hexane, n_compounds=10, box=box)\n",
    "box_of_hexanes.visualize()"
   ]
  },
  {
   "cell_type": "markdown",
   "metadata": {
    "collapsed": true
   },
   "source": [
    "Currently the `energy_minimization` function is limited to atomistic `Compounds` that can be atomtyped using the generic force fields provided by OpenBabel (e.g. GAFF, UFF); however, the next mBuild release will expand this functionality to support non-atomistic systems by relying on Foyer force field XMLs for atomtyping. For a sneak peek, see [this PR](https://github.com/mosdef-hub/mbuild/pull/416)."
   ]
  },
  {
   "cell_type": "markdown",
   "metadata": {
    "collapsed": true
   },
   "source": [
    "## Recap\n",
    "\n",
    "The goal of this tutorial was to demonstrate use of mBuild's `energy_minimization` function for generating compounds with more realistic geometries.\n",
    "\n",
    "The next tutorial will teach you how you can use mBuild to create polymers."
   ]
  },
  {
   "cell_type": "code",
   "execution_count": null,
   "metadata": {},
   "outputs": [],
   "source": []
  }
 ],
 "metadata": {
  "kernelspec": {
   "display_name": "Python 3",
   "language": "python",
   "name": "python3"
  },
  "language_info": {
   "codemirror_mode": {
    "name": "ipython",
    "version": 3
   },
   "file_extension": ".py",
   "mimetype": "text/x-python",
   "name": "python",
   "nbconvert_exporter": "python",
   "pygments_lexer": "ipython3",
   "version": "3.5.5"
  }
 },
 "nbformat": 4,
 "nbformat_minor": 2
}

{
 "cells": [
  {
   "cell_type": "markdown",
   "metadata": {
    "collapsed": true
   },
   "source": [
    "# mBuild Tutorial 04: Constructing Larger Compounds\n",
    "\n",
    "This tutorial demonstrates how to create larger `Compounds` by taking advantage of the `Port` class we learned about in the previous tutorial.  In particular, a linear alkane will be constructed by adding to the CH2 moiety class defined in a prior tutorial."
   ]
  },
  {
   "cell_type": "markdown",
   "metadata": {},
   "source": [
    "As in the prior tutorials, we need to first import mbuild (here as `mb`)."
   ]
  },
  {
   "cell_type": "code",
   "execution_count": null,
   "metadata": {},
   "outputs": [],
   "source": [
    "import mbuild as mb"
   ]
  },
  {
   "cell_type": "markdown",
   "metadata": {},
   "source": [
    "In general, connecting atoms together using `Ports` to create small moieties is unnecessary as these can be loaded from structure files; however, this functionality is important for creating larger and more complex `Compounds`. Here, we will extend the CH2 class constructed in a prior tutorial, adding two `Ports` (labeled `up` and `down`) to the central carbon atom."
   ]
  },
  {
   "cell_type": "code",
   "execution_count": null,
   "metadata": {},
   "outputs": [],
   "source": [
    "class CH2(mb.Compound):\n",
    "    def __init__(self):\n",
    "        super(CH2, self).__init__()\n",
    "        \n",
    "        mb.load('ch2.pdb', compound=self)\n",
    "        carbon = list(self.particles_by_name('C'))[0]\n",
    "        up_port = mb.Port(anchor=carbon, orientation=[0, 0, 1], separation=0.075)\n",
    "        down_port = mb.Port(anchor=carbon, orientation=[0, 0, -1], separation=0.075)\n",
    "        self.add(up_port, label='up')\n",
    "        self.add(down_port, label='down')"
   ]
  },
  {
   "cell_type": "markdown",
   "metadata": {},
   "source": [
    "Now we'll explore how `Ports` can be used to connect `Compounds` by connecting two CH2 groups to create a C2H4 group. We'll first use mBuild's `clone` function to create two deep copies of our CH2 `Compound`, similar to to what was done in the previous tutorial. \n",
    "\n",
    "We can use the `translate` function to move one copy so that they are not on top of one another. \n",
    "\n",
    "Note, in order to visualize the two compounds simultaneously, we'll again add these to a parent `Compound`. "
   ]
  },
  {
   "cell_type": "code",
   "execution_count": null,
   "metadata": {},
   "outputs": [],
   "source": [
    "first_ch2 = CH2()\n",
    "second_ch2 = CH2()\n",
    "second_ch2.translate([1, 1, 1])\n",
    "parent = mb.Compound()\n",
    "parent.add((first_ch2, second_ch2))\n",
    "parent.visualize(show_ports=True)"
   ]
  },
  {
   "cell_type": "markdown",
   "metadata": {},
   "source": [
    "These two CH2 `Compounds` can be trivially connected using the `force_overlap` command, just as was done when connecting the carbon and hydrogen atoms in the previous tutorial; mBuild is designed to be general and flexible and does not distinguish between a `Compound` that describes a single atom or a collection of atoms. "
   ]
  },
  {
   "cell_type": "code",
   "execution_count": null,
   "metadata": {},
   "outputs": [],
   "source": [
    "mb.force_overlap(move_this=first_ch2,\n",
    "                 from_positions=first_ch2['up'],\n",
    "                 to_positions=second_ch2['down'])\n",
    "\n",
    "parent.visualize(show_ports=True)"
   ]
  },
  {
   "cell_type": "markdown",
   "metadata": {},
   "source": [
    "### Building a linear alkane\n",
    "\n",
    "Now that we've explored the basics of creating mBuild `Compounds` and connecting them together using ports, we'll use this approach to create a slightly more complex molecule, a linear butane.\n",
    "\n",
    "We could approach our butane construction by connecting two CH2 moieties and two CH3 moieties. Alternatively, we could connect four CH2 moieties and cap the ends of the chain with hydrogen atoms. \n",
    "\n",
    "In this example, we will take the latter approach. As such, we'll need to also define a class for a hydrogen atom featuring a single `Port`."
   ]
  },
  {
   "cell_type": "code",
   "execution_count": null,
   "metadata": {},
   "outputs": [],
   "source": [
    "class Hydrogen(mb.Compound):\n",
    "    def __init__(self):\n",
    "        super(Hydrogen, self).__init__()\n",
    "        \n",
    "        self.add(mb.Particle(name='H'))\n",
    "        up_port = mb.Port(anchor=self[0], orientation=[0, 0, 1], separation=0.05)\n",
    "        self.add(up_port, 'up')"
   ]
  },
  {
   "cell_type": "markdown",
   "metadata": {},
   "source": [
    "We now have all of the pieces necessary to create a butane molecule. To begin, we'll instantiate an empty mBuild `Compound` to add our pieces to."
   ]
  },
  {
   "cell_type": "code",
   "execution_count": null,
   "metadata": {},
   "outputs": [],
   "source": [
    "butane = mb.Compound()"
   ]
  },
  {
   "cell_type": "markdown",
   "metadata": {},
   "source": [
    "Now, we'll create one of our CH3 ends by connecting a CH2 group and a hydrogen atom. We'll then add these two `Compounds` to our butane, giving them each a label. Note that by providing `ch2[$]` as the label for our CH2 group, mBuild will create a list that any subsequent parts added to the `Compound` with the same label prefix will be appended to."
   ]
  },
  {
   "cell_type": "code",
   "execution_count": null,
   "metadata": {},
   "outputs": [],
   "source": [
    "hydrogen = Hydrogen()\n",
    "last_unit = CH2()\n",
    "mb.force_overlap(move_this=hydrogen,\n",
    "                 from_positions=hydrogen['up'],\n",
    "                 to_positions=last_unit['up'])\n",
    "butane.add(last_unit, label='ch2[$]')\n",
    "butane.add(hydrogen, label='up-cap')\n",
    "butane.visualize(show_ports=True)"
   ]
  },
  {
   "cell_type": "markdown",
   "metadata": {},
   "source": [
    "To continue creating our butane molecule, we'll next attach three CH2 groups to the CH3 cap we've just created. This can be set up in a loop, where we'll use `force_overlap` to iteratively attach each new CH2 instantiation to the last unit on the chain."
   ]
  },
  {
   "cell_type": "code",
   "execution_count": null,
   "metadata": {},
   "outputs": [],
   "source": [
    "for _ in range(3):\n",
    "    current_unit = CH2()\n",
    "    mb.force_overlap(move_this=current_unit,\n",
    "                     from_positions=current_unit['up'],\n",
    "                     to_positions=last_unit['down'])\n",
    "    butane.add(current_unit, label='ch2[$]')\n",
    "    last_unit=current_unit\n",
    "\n",
    "butane.visualize(show_ports=True)"
   ]
  },
  {
   "cell_type": "markdown",
   "metadata": {},
   "source": [
    "Finally, we need to cap the end of our molecule with a hydrogen atom to complete the creation of butane."
   ]
  },
  {
   "cell_type": "code",
   "execution_count": null,
   "metadata": {},
   "outputs": [],
   "source": [
    "hydrogen2 = Hydrogen()\n",
    "mb.force_overlap(move_this=hydrogen2,\n",
    "                 from_positions=hydrogen2['up'],\n",
    "                 to_positions=last_unit['down'])\n",
    "butane.add(hydrogen2, label='down-cap')\n",
    "butane.visualize(show_ports=True)"
   ]
  },
  {
   "cell_type": "markdown",
   "metadata": {},
   "source": [
    "As shown previously, we can also wrap all of these commands into a reusable class."
   ]
  },
  {
   "cell_type": "code",
   "execution_count": null,
   "metadata": {},
   "outputs": [],
   "source": [
    "class Butane(mb.Compound):\n",
    "    def __init__(self):\n",
    "        super(Butane, self).__init__()\n",
    "        \n",
    "        hydrogen = Hydrogen()\n",
    "        last_unit = CH2()\n",
    "        mb.force_overlap(move_this=hydrogen,\n",
    "                         from_positions=hydrogen['up'],\n",
    "                         to_positions=last_unit['up'])\n",
    "        self.add(last_unit, label='ch2[$]')\n",
    "        self.add(hydrogen, label='up-cap')\n",
    "        for _ in range(3):\n",
    "            current_unit = CH2()\n",
    "            mb.force_overlap(move_this=current_unit,\n",
    "                             from_positions=current_unit['up'],\n",
    "                             to_positions=last_unit['down'])\n",
    "            self.add(current_unit, label='ch2[$]')\n",
    "            last_unit=current_unit\n",
    "        hydrogen = Hydrogen()\n",
    "        mb.force_overlap(move_this=hydrogen,\n",
    "                         from_positions=hydrogen['up'],\n",
    "                         to_positions=last_unit['down'])\n",
    "        self.add(hydrogen, label='down-cap')"
   ]
  },
  {
   "cell_type": "code",
   "execution_count": null,
   "metadata": {},
   "outputs": [],
   "source": [
    "butane = Butane()\n",
    "butane.visualize()"
   ]
  },
  {
   "cell_type": "markdown",
   "metadata": {
    "collapsed": true
   },
   "source": [
    "## Recap\n",
    "\n",
    "The goal of this tutorial was to provide an example of how `Ports` along with `force_overlap` can be used to connect molecules in addition to atoms (as these are both instances of `Compound`). We also learned a useful trick where `force_overlap` can be used within a `for` loop to iteratively connect molecule copies.\n",
    "\n",
    "The next tutorial will teach you how to create mBuild `Compound` classes with arguments that allow you to tune the molecular chemistry upon instantiation."
   ]
  },
  {
   "cell_type": "code",
   "execution_count": null,
   "metadata": {},
   "outputs": [],
   "source": []
  }
 ],
 "metadata": {
  "kernelspec": {
   "display_name": "Python 3",
   "language": "python",
   "name": "python3"
  },
  "language_info": {
   "codemirror_mode": {
    "name": "ipython",
    "version": 3
   },
   "file_extension": ".py",
   "mimetype": "text/x-python",
   "name": "python",
   "nbconvert_exporter": "python",
   "pygments_lexer": "ipython3",
   "version": "3.5.5"
  }
 },
 "nbformat": 4,
 "nbformat_minor": 2
}

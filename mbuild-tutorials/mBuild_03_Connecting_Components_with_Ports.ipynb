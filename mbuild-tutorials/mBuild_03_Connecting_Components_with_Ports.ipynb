{
 "cells": [
  {
   "cell_type": "markdown",
   "metadata": {
    "collapsed": true
   },
   "source": [
    "# mBuild Tutorial 03: Connecting Components with Ports\n",
    "\n",
    "This tutorial demonstrates how to create `Ports` on `Compounds`, which aids in connecting them together by both creating bonds and moving the `Compounds` in space."
   ]
  },
  {
   "cell_type": "markdown",
   "metadata": {},
   "source": [
    "As in the prior tutorials, we need to first import mbuild (here as `mb`)."
   ]
  },
  {
   "cell_type": "code",
   "execution_count": null,
   "metadata": {},
   "outputs": [],
   "source": [
    "import mbuild as mb"
   ]
  },
  {
   "cell_type": "markdown",
   "metadata": {},
   "source": [
    "We've already shown that `Particles` can be connected (i.e. bonded) by using the `add_bond` routine; however, this does not actually move the atoms in space, and it would become burdensome to need to manually update the position of each atom when connecting them together. Additionally, having to create fixed bonds for all connections would make mBuild less flexible; again, a key function of mBuild is the ability to exchange and swap `Compounds`, allowing arbitrary molecules to be constructed.  \n",
    "\n",
    "This is where [mBuild's `Port` class](http://mosdef-hub.github.io/mbuild/data_structures.html#mbuild.port.Port) comes into play. `Ports`, in the most general sense, define a location (and direction) in space; however, in most cases these can be thought of as dangling bonds.\n",
    "\n",
    "Let's test this functionality by using `Ports` instead of `add_bond` to create a ch2 moiety. First, we'll create an empty `Compound` for CH2 that we will add three `Particles` to at unrealistic locations."
   ]
  },
  {
   "cell_type": "code",
   "execution_count": null,
   "metadata": {},
   "outputs": [],
   "source": [
    "ch2 = mb.Compound()\n",
    "carbon = mb.Particle(pos=[0.0, 0.0, 0.0], name='C')\n",
    "hydrogen = mb.Particle(pos=[1.0, 0.0, 0.0], name='H')\n",
    "hydrogen2 = mb.Particle(pos=[2.0, 0.0, 0.0], name='H')\n",
    "ch2.add([carbon, hydrogen, hydrogen2])\n",
    "ch2.visualize()"
   ]
  },
  {
   "cell_type": "markdown",
   "metadata": {},
   "source": [
    "Now we'll create a `Port` instance and attach it to the carbon atom by using the `anchor` attribute. This allows mBuild to know which atoms to create bonds between when two `Ports` are connected (as well as providing a reference for any geometric transformations). We can also provide an `orientation` vector to give our `Port` a desired direction, and can use the `separation` argument to shift our `Port` from the position of the anchor `Particle`. Since we're going to be connecting to a hydrogen, we will shift our `Port` roughly half of a C-H bond length."
   ]
  },
  {
   "cell_type": "code",
   "execution_count": null,
   "metadata": {},
   "outputs": [],
   "source": [
    "port_C = mb.Port(anchor=carbon, orientation=[1, 0, 0], separation=0.05)\n",
    "port_C"
   ]
  },
  {
   "cell_type": "markdown",
   "metadata": {},
   "source": [
    "We now need to add this `Port` to the containment hierarchy of our ch2 `Compound`, again using the `add` method. We can also provide a descriptive label for our `Port` that we can use for easy access; here we will name this port `right`."
   ]
  },
  {
   "cell_type": "code",
   "execution_count": null,
   "metadata": {},
   "outputs": [],
   "source": [
    "ch2.add(port_C, label='right')\n",
    "ch2['right']"
   ]
  },
  {
   "cell_type": "markdown",
   "metadata": {},
   "source": [
    "Now we need to add another `Port` to the carbon `Particle` and one `Port` to each hydrogen `Particle`, giving each of these distinct labels. We'll first add another `Port` to carbon (labeled `left`) and a `Port` on each of the hydrogens (labeled `H1` and `H2`).  "
   ]
  },
  {
   "cell_type": "code",
   "execution_count": null,
   "metadata": {},
   "outputs": [],
   "source": [
    "port2_C = mb.Port(anchor=carbon, orientation=[-1, 0, 0], separation=0.05)\n",
    "ch2.add(port2_C, label='left')\n",
    "\n",
    "port_H = mb.Port(anchor=hydrogen, orientation=[1, 0, 0], separation=0.05)\n",
    "ch2.add(port_H, label='H1')\n",
    "\n",
    "port2_H = mb.Port(anchor=hydrogen2, orientation=[1, 0, 0], separation=0.05)\n",
    "ch2.add(port2_H, label='H2')\n",
    "\n",
    "ch2.visualize(show_ports=True)"
   ]
  },
  {
   "cell_type": "markdown",
   "metadata": {},
   "source": [
    "The `force_overlap` function is then used to force the overlap of two `Ports` by performing a coordinate transform on one of the two `Compounds` that are to be connected. This will also create a bond between the anchor `Particles` of each `Port`. We'll use this function here to connect each hydrogen to the carbon `Particle`."
   ]
  },
  {
   "cell_type": "code",
   "execution_count": null,
   "metadata": {},
   "outputs": [],
   "source": [
    "mb.force_overlap(move_this=hydrogen,\n",
    "                 from_positions=ch2['H1'],\n",
    "                 to_positions=ch2['right'])\n",
    "\n",
    "mb.force_overlap(move_this=hydrogen2,\n",
    "                 from_positions=ch2['H2'],\n",
    "                 to_positions=ch2['left'])\n",
    "\n",
    "ch2.visualize(show_ports=True)"
   ]
  },
  {
   "cell_type": "markdown",
   "metadata": {},
   "source": [
    "As can be seen above, the hydrogen atoms were appropriately translated and oriented to create the expected ch2 structure.\n",
    "\n",
    "Note that once two `Particles` are connected using `force_overlap` the `Ports` used to connect these `Particles` are removed. However, if we were to remove the bond between one of the hydrogen atoms and the carbon atoms, two new `Ports` will be created, one attached to each `Particle`, along the bond vector."
   ]
  },
  {
   "cell_type": "code",
   "execution_count": null,
   "metadata": {},
   "outputs": [],
   "source": [
    "ch2.remove_bond(particle_pair=(carbon, hydrogen))\n",
    "ch2.visualize(show_ports=True)"
   ]
  },
  {
   "cell_type": "markdown",
   "metadata": {},
   "source": [
    "We could now remove the hydrogen we disconnected and connect something else to our CH moiety. To achieve this, we will need to use the `remove` method to remove both the hydrogen atom *and* the `Port` connected to this atom from our molecule hierarchy.\n",
    "\n",
    "First, however, we'll use the `available_ports` method to query the `Ports` present in our molecule, so that we can fine out the name of the `Port` we want to remove."
   ]
  },
  {
   "cell_type": "code",
   "execution_count": null,
   "metadata": {},
   "outputs": [],
   "source": [
    "ch2.available_ports()"
   ]
  },
  {
   "cell_type": "markdown",
   "metadata": {},
   "source": [
    "Now we'll use `remove` to remove `port[1]` and the hydrogen atom from our molecule."
   ]
  },
  {
   "cell_type": "code",
   "execution_count": null,
   "metadata": {},
   "outputs": [],
   "source": [
    "ch2.remove([ch2['port[1]'], hydrogen])\n",
    "ch2.visualize(show_ports=True)"
   ]
  },
  {
   "cell_type": "markdown",
   "metadata": {},
   "source": [
    "Now, we'll use the `clone` function to create a deep copy of the CH moiety and, again using `force_overlap` will connect the two CH's together. We'll then add both of these CH moieties to a parent `Compound` and visualize."
   ]
  },
  {
   "cell_type": "code",
   "execution_count": null,
   "metadata": {},
   "outputs": [],
   "source": [
    "ch2_copy = mb.clone(ch2)\n",
    "mb.force_overlap(move_this=ch2_copy,\n",
    "                 from_positions=ch2_copy['port[0]'],\n",
    "                 to_positions=ch2['port[0]'])\n",
    "parent = mb.Compound(subcompounds=[ch2, ch2_copy])\n",
    "parent.visualize(show_ports=True)"
   ]
  },
  {
   "cell_type": "markdown",
   "metadata": {},
   "source": [
    "We now see that we have two CH's connected! However, because our `Ports` were based off of the `C-H` bond distance, the two carbon atoms are unrealistically close to one another. While mBuild does feature an `energy_minimization` function that could remedy this, we could also manually shift our CH2 copy a bit to the left using the `translate` method."
   ]
  },
  {
   "cell_type": "code",
   "execution_count": null,
   "metadata": {},
   "outputs": [],
   "source": [
    "ch2_copy.translate([0.05, 0, 0])\n",
    "parent.visualize(show_ports=True)"
   ]
  },
  {
   "cell_type": "markdown",
   "metadata": {},
   "source": [
    "## Recap\n",
    "\n",
    "The goal of this tutorial was to demonstrate the use of mBuild's `Port` class to aid in connecting particles and molecules as well as moving them around in space. We also explored several additional methods of `Compound` including `translate`, `available_ports`, and `remove_bond`.\n",
    "\n",
    "The next tutorial will take the routines we've learned and use them to create a more complex molecule, an alkane chain."
   ]
  },
  {
   "cell_type": "code",
   "execution_count": null,
   "metadata": {},
   "outputs": [],
   "source": []
  }
 ],
 "metadata": {
  "kernelspec": {
   "display_name": "Python 3",
   "language": "python",
   "name": "python3"
  },
  "language_info": {
   "codemirror_mode": {
    "name": "ipython",
    "version": 3
   },
   "file_extension": ".py",
   "mimetype": "text/x-python",
   "name": "python",
   "nbconvert_exporter": "python",
   "pygments_lexer": "ipython3",
   "version": "3.5.5"
  }
 },
 "nbformat": 4,
 "nbformat_minor": 2
}

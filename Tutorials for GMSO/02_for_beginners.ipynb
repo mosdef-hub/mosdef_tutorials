{
 "cells": [
  {
   "cell_type": "markdown",
   "id": "20953754",
   "metadata": {},
   "source": [
    "# GMSO - General Molecular Simulation Object\n",
    "\n",
    "## Using the `Topology`\n",
    "\n",
    "[GMSO](https://github.com/mosdef-hub/gmso) allows for engine agnostic python object to store everything needed for writing molecule input files for simulation.\n",
    "\n",
    "\n",
    "This notebook is designed to provide basics for interfacing with GMSO. Tutorials get more in-depth in terms of complex usage denoted by the `beginners`, `intermediates`, and `experts` tags on these notebooks. For a full list of the examples discussed in these tutorials, please see [the GMSO Tutorials README](README.md).\n",
    "\n",
    "After completing this notebook, move on to [this notebook](03_for_intermedates.ipynb) to learn about how to atomtype in `GMSO`.\n",
    "\n",
    "Contained in this notebook is examples of:\n",
    "* Simple atomtyping\n",
    "* Viewing a topology\n",
    "* Conversion to `Pandas` `DataFrame`\n",
    "\n",
    "---"
   ]
  },
  {
   "cell_type": "markdown",
   "id": "47afe634",
   "metadata": {},
   "source": [
    "## Simple atomtyping\n",
    "---"
   ]
  },
  {
   "cell_type": "code",
   "execution_count": null,
   "id": "9e621f0c",
   "metadata": {},
   "outputs": [],
   "source": [
    "import gmso\n",
    "from gmso.parameterization import apply\n",
    "ethaneTop = gmso.Topology.load(\"source_files/ethane.json\")\n",
    "ethaneXml = gmso.ForceField(\"source_files/ethane.xml\")\n",
    "\n",
    "parameterizedTop = apply(ethaneTop, oplsXml, identify_connections=True)\n",
    "parameterizedTop"
   ]
  },
  {
   "cell_type": "markdown",
   "id": "829f8773",
   "metadata": {},
   "source": [
    "## Viewing a topology\n",
    "---"
   ]
  },
  {
   "cell_type": "code",
   "execution_count": null,
   "id": "3e7f581f",
   "metadata": {},
   "outputs": [],
   "source": [
    "print(parameterizedTop.sites)"
   ]
  },
  {
   "cell_type": "code",
   "execution_count": null,
   "id": "746f70f8",
   "metadata": {},
   "outputs": [],
   "source": [
    "print(parameterizedTop.bonds)"
   ]
  },
  {
   "cell_type": "code",
   "execution_count": null,
   "id": "d33b3b96",
   "metadata": {},
   "outputs": [],
   "source": [
    "print(parameterizedTop.angles)"
   ]
  },
  {
   "cell_type": "code",
   "execution_count": null,
   "id": "f80cc6aa",
   "metadata": {},
   "outputs": [],
   "source": [
    "print(parameterizedTop.dihedrals)"
   ]
  },
  {
   "cell_type": "code",
   "execution_count": null,
   "id": "5cafb9d3",
   "metadata": {},
   "outputs": [],
   "source": [
    "print(parameterizedTop.impropers)"
   ]
  },
  {
   "cell_type": "code",
   "execution_count": null,
   "id": "36ca88ad",
   "metadata": {},
   "outputs": [],
   "source": [
    "for conn in [\"bond\", \"angle\", \"dihedral\"]:\n",
    "    potential0 = getattr(getattr(parameterizedTop, conn+\"s\")[0],conn+\"_type\")\n",
    "    print(f\"{potential0.name}: {potential0.parameters}\\n\")"
   ]
  },
  {
   "cell_type": "markdown",
   "id": "c4784d1d",
   "metadata": {},
   "source": [
    "## Conversion to `Pandas` `DataFrame`\n",
    "---"
   ]
  },
  {
   "cell_type": "code",
   "execution_count": null,
   "id": "5f0f1a87",
   "metadata": {},
   "outputs": [],
   "source": [
    "parameterizedTop.to_dataframe()"
   ]
  },
  {
   "cell_type": "code",
   "execution_count": null,
   "id": "fe4c2dc3",
   "metadata": {},
   "outputs": [],
   "source": [
    "import pandas as pd\n",
    "df = parameterizedTop.to_dataframe(parameter=\"bonds\")\n",
    "edit_columns = df.columns[2:].to_list()\n",
    "for c in edit_columns:\n",
    "    df[c] = df[c].apply(lambda x: x.value)\n",
    "df"
   ]
  },
  {
   "cell_type": "code",
   "execution_count": null,
   "id": "2a3f471e",
   "metadata": {},
   "outputs": [],
   "source": [
    "import pandas as pd\n",
    "df = parameterizedTop.to_dataframe(parameter=\"dihedrals\")\n",
    "edit_columns = df.columns[4:].to_list()\n",
    "for c in edit_columns:\n",
    "    df[c] = df[c].apply(lambda x: x.value)\n",
    "    df = df.rename(columns={c:c[12:]})\n",
    "df"
   ]
  }
 ],
 "metadata": {
  "kernelspec": {
   "display_name": "Python 3 (ipykernel)",
   "language": "python",
   "name": "python3"
  },
  "language_info": {
   "codemirror_mode": {
    "name": "ipython",
    "version": 3
   },
   "file_extension": ".py",
   "mimetype": "text/x-python",
   "name": "python",
   "nbconvert_exporter": "python",
   "pygments_lexer": "ipython3",
   "version": "3.11.3"
  }
 },
 "nbformat": 4,
 "nbformat_minor": 5
}

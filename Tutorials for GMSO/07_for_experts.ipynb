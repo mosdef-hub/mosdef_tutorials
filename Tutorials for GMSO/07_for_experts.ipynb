{
 "cells": [
  {
   "cell_type": "markdown",
   "id": "86ed0465",
   "metadata": {},
   "source": [
    "# GMSO - General Molecular Simulation Object\n",
    "\n",
    "## Modifying a topology\n",
    "\n",
    "[GMSO](https://github.com/mosdef-hub/gmso) allows for engine agnostic python object to store everything needed for writing molecule input files for simulation.\n",
    "\n",
    "\n",
    "This notebook is designed to provide advanced principles for interfacing with GMSO. Tutorials get more in-depth in terms of complex usage denoted by the `beginners`, `intermediates`, and `experts` tags on these notebooks. For a full list of the examples discussed in these tutorials, please see [the GMSO Tutorials README](README.md).\n",
    "This is the last notebook directly related to `GMSO`. See the forcefields tutorials to learn more about writing GMSO forcefields.\n",
    "\n",
    "Contained in this notebook is examples of:\n",
    "* Working with unyts\n",
    "* Converting parameters\n",
    "* Modifying a topology charge\n",
    "* Identifying molecules in the topology"
   ]
  },
  {
   "cell_type": "code",
   "execution_count": null,
   "id": "5962bb30",
   "metadata": {},
   "outputs": [],
   "source": [
    "# imports\n",
    "import copy\n",
    "import time\n",
    "import numpy as np\n",
    "import warnings\n",
    "warnings.simplefilter('ignore')\n",
    "\n",
    "import gmso\n",
    "from gmso.parameterization import apply"
   ]
  },
  {
   "cell_type": "markdown",
   "id": "d5a05cbb",
   "metadata": {},
   "source": [
    "## Working with `Unyts`\n",
    "For details go the [documentation](https://unyt.readthedocs.io/en/stable/) page. Unyts are a set of python objects for keeping track of the units a value is associated with, and giving the opportunity to convert them to equivalent values."
   ]
  },
  {
   "cell_type": "code",
   "execution_count": null,
   "id": "c4c9075d",
   "metadata": {},
   "outputs": [],
   "source": [
    "top = gmso.Topology.load(\"source_files/ethane-box.json\")\n",
    "m = top.sites[0].mass\n",
    "print(m)"
   ]
  },
  {
   "cell_type": "code",
   "execution_count": null,
   "id": "c4f2e7d3",
   "metadata": {},
   "outputs": [],
   "source": [
    "m.in_units(\"g\")"
   ]
  },
  {
   "cell_type": "code",
   "execution_count": null,
   "id": "b9ead642",
   "metadata": {},
   "outputs": [],
   "source": [
    "# calculate density of the simulation box\n",
    "mass = 0\n",
    "for site in top.sites:\n",
    "    mass += site.mass #can do summation, multiplication, etc just like floats\n",
    "volume = 1\n",
    "for dim in top.box.lengths:\n",
    "    volume *= dim \n",
    "density = mass/volume\n",
    "print(density.in_units(\"g/cm**3\"))\n",
    "print(density.value) # decouple float\n",
    "print(density.units) # get the units"
   ]
  },
  {
   "cell_type": "code",
   "execution_count": null,
   "id": "5e1da182",
   "metadata": {},
   "outputs": [],
   "source": [
    "# gmso units\n",
    "from gmso.utils.units import LAMMPS_UnitSystems\n",
    "base_unyts = LAMMPS_UnitSystems(\"real\")\n",
    "base_unyts.usystem"
   ]
  },
  {
   "cell_type": "code",
   "execution_count": null,
   "id": "f4adfb45",
   "metadata": {},
   "outputs": [],
   "source": [
    "import unyt as u\n",
    "\n",
    "init_value = 1 * u.kJ/u.mol \n",
    "init_value.in_units(base_unyts.usystem[\"energy\"], reg=base_unyts.reg)"
   ]
  },
  {
   "cell_type": "code",
   "execution_count": null,
   "id": "a9e1cfe4",
   "metadata": {},
   "outputs": [],
   "source": [
    "import unyt as u\n",
    "\n",
    "init_value = 1 * u.kJ/u.mol \n",
    "base_unyts.convert_parameter(init_value)"
   ]
  },
  {
   "cell_type": "markdown",
   "id": "0f9c7e77",
   "metadata": {},
   "source": [
    "## Converting parameters\n",
    "In regards to generating forcefields, large scale conversions of parameters from literature by hand can be error prone. Because of this, sometimes it's necessary to use parameters from the forcefield given in one formula, and convert to something else more useful. We will do this using the dihedral rb-torsion to opls conversion."
   ]
  },
  {
   "cell_type": "code",
   "execution_count": null,
   "id": "865f205d",
   "metadata": {},
   "outputs": [],
   "source": [
    "top = gmso.Topology.load(\"source_files/ethane-typed.json\")\n",
    "list(top.dihedral_types)[0]"
   ]
  },
  {
   "cell_type": "code",
   "execution_count": null,
   "id": "ca82206c",
   "metadata": {},
   "outputs": [],
   "source": [
    "top_conv = top.convert_potential_styles({\"dihedrals\":\"OPLSTorsionPotential\"})\n",
    "list(top.dihedral_types)[0]"
   ]
  },
  {
   "cell_type": "markdown",
   "id": "c7fbb819",
   "metadata": {},
   "source": [
    "To see other possible conversions, go to the conversion utility of [GMSO](https://github.com/mosdef-hub/gmso/blob/bde9f1b8fcdcb7fd62273215922b932b1d75648f/gmso/utils/conversions.py#L53) to look at built in conversions, automated algebraic conversions such as one half factors, and how to add new conversions\""
   ]
  },
  {
   "cell_type": "markdown",
   "id": "e14e0da7",
   "metadata": {},
   "source": [
    "## Modifying a topology charge"
   ]
  },
  {
   "cell_type": "code",
   "execution_count": null,
   "id": "962571a1",
   "metadata": {},
   "outputs": [],
   "source": [
    "top = gmso.Topology.load(\"source_files/ethane-typed.json\")\n",
    "charge0 = 0\n",
    "for site in top.sites:\n",
    "    if site.atom_type.charge < 0:\n",
    "        charge0+=site.atom_type.charge\n",
    "    else:\n",
    "        charge0-=site.atom_type.charge\n",
    "print(charge0)\n",
    "charge_new = 0\n",
    "new_scalar = 0.8\n",
    "for site in top.sites:\n",
    "    site.atom_type.charge = site.atom_type.charge * new_scalar #\n",
    "    if site.atom_type.charge < 0:\n",
    "        charge_new+=site.atom_type.charge\n",
    "    else:\n",
    "        charge_new-=site.atom_type.charge\n",
    "print(charge_new)     \n",
    "print(charge_new/charge0)"
   ]
  },
  {
   "cell_type": "markdown",
   "id": "a438ce72",
   "metadata": {},
   "source": [
    "## Identifying molecules in the topology"
   ]
  },
  {
   "cell_type": "code",
   "execution_count": null,
   "id": "bf9b04ec",
   "metadata": {},
   "outputs": [],
   "source": [
    "top = gmso.Topology.load(\"source_files/mixed-box.json\")\n",
    "molecules = top.unique_site_labels(name_only=True)\n",
    "print(molecules)\n",
    "moleculeDict = {}\n",
    "for molecule in top.unique_site_labels(name_only=False):\n",
    "    if molecule.name in moleculeDict:\n",
    "        moleculeDict[molecule.name]+=1\n",
    "    else:\n",
    "        moleculeDict[molecule.name] = 1\n",
    "moleculeDict"
   ]
  },
  {
   "cell_type": "markdown",
   "id": "41129d45",
   "metadata": {},
   "source": [
    "Code used to generate this topology\n",
    "```python\n",
    "import mbuild as mb\n",
    "cpd1 = mb.load(\"O\", smiles=True)\n",
    "cpd1.name = \"water\"\n",
    "cpd2 = mb.load(\"CCCCCCCCO\", smiles=True)\n",
    "cpd2.name = \"octanol\"\n",
    "cpd3 = mb.load(\"C(C1C(C(C(C(O1)O)O)O)O)O\", smiles=True)\n",
    "cpd3.name = \"glucose\"\n",
    "\n",
    "box = mb.fill_box([cpd1, cpd2, cpd3], n_compounds=[1000, 500, 50], density=0.831)\n",
    "top = box.to_gmso()\n",
    "top.save(\"source_files/mixed-box.json\")\n",
    "```"
   ]
  },
  {
   "cell_type": "code",
   "execution_count": null,
   "id": "43822faa",
   "metadata": {},
   "outputs": [],
   "source": []
  }
 ],
 "metadata": {
  "kernelspec": {
   "display_name": "Python 3 (ipykernel)",
   "language": "python",
   "name": "python3"
  },
  "language_info": {
   "codemirror_mode": {
    "name": "ipython",
    "version": 3
   },
   "file_extension": ".py",
   "mimetype": "text/x-python",
   "name": "python",
   "nbconvert_exporter": "python",
   "pygments_lexer": "ipython3",
   "version": "3.11.3"
  }
 },
 "nbformat": 4,
 "nbformat_minor": 5
}

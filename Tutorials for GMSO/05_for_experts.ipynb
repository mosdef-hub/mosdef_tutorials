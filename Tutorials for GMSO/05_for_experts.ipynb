{
 "cells": [
  {
   "cell_type": "markdown",
   "id": "857074cc",
   "metadata": {},
   "source": [
    "# GMSO - General Molecular Simulation Object\n",
    "\n",
    "## Working with GMSO base and core classes\n",
    "\n",
    "[GMSO](https://github.com/mosdef-hub/gmso) allows for engine agnostic python object to store everything needed for writing molecule input files for simulation.\n",
    "\n",
    "\n",
    "This notebook is designed to provide advanced principles for interfacing with GMSO. Tutorials get more in-depth in terms of complex usage denoted by the `beginners`, `intermediates`, and `experts` tags on these notebooks. For a full list of the examples discussed in these tutorials, please see [the GMSO Tutorials README](README.md).\n",
    "\n",
    "After completing this notebook, move on to [this notebook](06_for_experts.ipynb) to learn about how to fix issues during atomtyping.\n",
    "\n",
    "Contained in this notebook is examples of:\n",
    "* Base classes\n",
    "* Core classes\n",
    "\n"
   ]
  },
  {
   "cell_type": "markdown",
   "id": "5ede8b64",
   "metadata": {},
   "source": [
    "## Base classes (module gmso.abc)\n",
    "This module provides the abstract base classes for all other core data structures used in gmso. Our abstract base classes inherit from [pydantic](https://pydantic-docs.helpmanual.io/)'s `BaseModel` class which provides type hints as well as runtime data validation together with out-of-the-box serialization. The module structure is as follows:\n",
    "```\n",
    "gmso/abc \n",
    "├── abstract_connection.py \n",
    "├── abstract_potential.py \n",
    "├── abstract_site.py \n",
    "├── gmso_base.py \n",
    "```\n",
    "\n",
    "\n",
    "1. [`gmso_base.py`](https://github.com/mosdef-hub/gmso/blob/main/gmso/abc/gmso_base.py): Defines the class `GMSOBase` i.e. The base class for all our other classes that tweaks pydantic's `BaseModel` class to provide an `id`-based hasing as well as injects numpydoc style docstrings from the fields of the class.\n",
    "---\n",
    "2. [`abstract_site.py`](https://github.com/mosdef-hub/gmso/blob/main/gmso/abc/abstract_site.py): Defines the `Site` class which provides a basic topology site with following attributes: (a.) name (b.) position (c.) label\n",
    "---\n",
    "3. [`abstract_potential.py`](https://github.com/mosdef-hub/gmso/blob/main/gmso/abc/abstract_potential.py): Defines the abstract `Potential` class which is the base class for our `ParametricPotentials` as well as `PotentialTemplates`.\n",
    "---\n",
    "4. [`abstract_connection.py`](https://github.com/mosdef-hub/gmso/blob/main/gmso/abc/abstract_site.py): Defines the abstract `Connection` class which is the base class for our `Bond`, `Angle`, `Dihedral` and `Improper` classes."
   ]
  },
  {
   "cell_type": "markdown",
   "id": "dc315086",
   "metadata": {},
   "source": [
    "### Extensibility \n",
    "The implementation of abstract base classes allows for a consistent and systematic expansion of the library. The `gmso.abc` would allow new data classes to be implemented as needs arise with built-in common attributes/methods and type-check. \n",
    "\n",
    "### Example: Implementing a Bead\n",
    "\n",
    "The `Bead` class can now be implemented as a subclass of the abstract `Site` class. We can use the existing attributes from the super class like `name`, `position` etc... and define new attributes and methods for `Bead`. The goal is the consolidation of as many universal characteristics of a generic topology site into a base class (`Site`) and tweak its down-stream usage according to the needs of a particular site (like an `Atom` or a `Bead`). Usage of `Site` to create a `Bead` class is shown below:"
   ]
  },
  {
   "cell_type": "code",
   "execution_count": null,
   "id": "637030cd",
   "metadata": {},
   "outputs": [],
   "source": [
    "import warnings\n",
    "warnings.simplefilter('ignore')\n",
    "import unyt as u\n",
    "from pydantic import Field, ValidationError\n",
    "\n",
    "from gmso.abc.abstract_site import Site\n",
    "\n",
    "\n",
    "class Bead(Site):\n",
    "    __base_doc__ = \"Basic Bead class inheriting from the Site Class\"\n",
    "    mass_: u.unyt_quantity = Field(\n",
    "        default=1.0*u.amu,\n",
    "        description='Mass of the bead'\n",
    "    )\n",
    "        \n",
    "    charge_: u.unyt_quantity = Field(\n",
    "        default=0.0*u.elementary_charge,\n",
    "        description='Charge of the bead'\n",
    "    )\n",
    "    \n",
    "    class Config:\n",
    "        fields = {\n",
    "            'mass_': 'mass',\n",
    "            'charge_': 'charge'\n",
    "        }\n",
    "        alias_to_fields = {\n",
    "            'mass': 'mass_',\n",
    "            'charge': 'charge_'\n",
    "        }\n",
    "    \n",
    "my_bead = Bead()\n",
    "# When you inherit, the attribute(field) `name` is injected as the class name(Bead in this case)\n",
    "print(f\"Injected name is class name: {my_bead.name}\")  \n",
    "\n",
    "# We use pydantic for validation as well, for example if you assign a string to charge by accident :)\n",
    "try:\n",
    "    my_bead.charge = 'Some weird charge string'\n",
    "except ValidationError as e:\n",
    "    print(e)"
   ]
  },
  {
   "cell_type": "code",
   "execution_count": null,
   "id": "ccb982f1",
   "metadata": {},
   "outputs": [],
   "source": [
    "# Documentation is injected automatically as well\n",
    "%pdoc Bead"
   ]
  },
  {
   "cell_type": "markdown",
   "id": "a26e76a2",
   "metadata": {},
   "source": [
    "## Core classes (module gmso.core)\n",
    "In `gmso` we define the following core classes. All of our core classes make use of `gmso.abc` to define a particular site, connection or potential. The module `gmso.core`'s structure is as follows:\n",
    "\n",
    "```\n",
    "gmso/core/\n",
    "├── angle.py\n",
    "├── angle_type.py\n",
    "├── atom.py\n",
    "├── atom_type.py\n",
    "├── bond.py\n",
    "├── bond_type.py\n",
    "├── box.py\n",
    "├── dihedral.py\n",
    "├── dihedral_type.py\n",
    "├── element.py\n",
    "├── forcefield.py\n",
    "├── improper.py\n",
    "├── improper_type.py\n",
    "├── parametric_potential.py\n",
    "└── topology.py\n",
    "```"
   ]
  },
  {
   "cell_type": "markdown",
   "id": "fa2edf01",
   "metadata": {},
   "source": [
    "### Sites\n",
    "1. [`atom.py`](https://github.com/mosdef-hub/gmso/blob/main/gmso/core/atom.py): Defines the class `gmso.core.atom.Atom` which inherits from `gmso.abc.abstract_site.Site` to define an `Atom`."
   ]
  },
  {
   "cell_type": "code",
   "execution_count": null,
   "id": "1cefc521",
   "metadata": {},
   "outputs": [],
   "source": [
    "from gmso.core.atom import Atom\n",
    "atom1 = Atom(name='atom1', charge=2.0*u.elementary_charge)\n",
    "\n",
    "# Dumping the model as json is easy\n",
    "atom1.model_dump()"
   ]
  },
  {
   "cell_type": "markdown",
   "id": "c89ce139",
   "metadata": {},
   "source": [
    "\n",
    "### Connections\n",
    "1. [`bond.py`](https://github.com/mosdef-hub/gmso/blob/main/gmso/core/bond.py): Defines the class `gmso.core.bond.Bond` which inherits from `gmso.abc.abstract_connection.Connection` to define a 2-partner connection between `Atoms`.\n",
    "---\n",
    "2. [`angle.py`](https://github.com/mosdef-hub/gmso/blob/main/gmso/core/angle.py): Defines the class `gmso.core.angle.Angle` which inherits from `gmso.abc.abstract_connection.Connection` to define a 3-partner connection between `Atoms`.\n",
    "---\n",
    "3. [`dihedral.py`](https://github.com/mosdef-hub/gmso/blob/main/gmso/core/dihedral.py): Defines the class `gmso.core.dihedral.Dihedral` which inherits from `gmso.abc.abstract_connection.Connection` to define a 4-partner connection(dihedral) between `Atoms`.\n",
    "---\n",
    "4. [`improper.py`](https://github.com/mosdef-hub/gmso/blob/main/gmso/core/improper.py): Defines the class `gmso.core.improper.Improper` which inherits from `gmso.abc.abstract_connection.Connection` to define a 4-partner connection(improper) between `Atoms`."
   ]
  },
  {
   "cell_type": "code",
   "execution_count": null,
   "id": "6efb7b69",
   "metadata": {},
   "outputs": [],
   "source": [
    "from gmso import Bond\n",
    "atom2 = Atom(name='atom2', charge=-2.0*u.elementary_charge)\n",
    "bond = Bond(connection_members=[atom1, atom2])\n",
    "bond.connection_members"
   ]
  },
  {
   "cell_type": "markdown",
   "id": "802c999c",
   "metadata": {},
   "source": [
    "\n",
    "### Potentials\n",
    "1. [`parametric_potential.py`](https://github.com/mosdef-hub/gmso/blob/main/gmso/core/parametric_potential.py): Defines the class `gmso.core.parametric_potential.ParametricPotential` which inherits from `gmso.abc.abstract_potential.Potential` to define a `ParametricPotential` class which stores the functional form of a Potential as a `sympy` expression and parameters of the potential expression as `unyt_quantities`.\n",
    "---\n",
    "2. [`atom_type.py`](https://github.com/mosdef-hub/gmso/blob/main/gmso/core/atom_type.py): Defines the class `gmso.core.atom_type.AtomType` which inherits from `gmso.core.parametric_potential.ParametricPotential` to describe properties for an `AtomType`.   \n",
    "---\n",
    "3. [`bond_type.py`](https://github.com/mosdef-hub/gmso/blob/main/gmso/core/bond_type.py): Defines the class `gmso.core.bond_type.BondType` which inherits from `gmso.core.parametric_potential.ParametricPotential` to describe properties for a `BondType`.\n",
    "---\n",
    "4. [`angle_type.py`](https://github.com/mosdef-hub/gmso/blob/main/gmso/core/angle_type.py): Defines the class `gmso.core.angle_type.AngleType` which inherits from `gmso.core.parametric_potential.ParametricPotential` to describe properties for an `AngleType`.\n",
    "---\n",
    "5. [`dihedral_type.py`](https://github.com/mosdef-hub/gmso/blob/main/gmso/core/dihedral_type.py) and [`improper_type.py`](https://github.com/mosdef-hub/gmso/blob/main/gmso/core/atom_type.py): Defines the classes `gmso.core.atom_type.DihedralType` and `gmso.core.improper_type.ImproperType` which inherit from `gmso.core.parametric_potential.ParametricPotential` which describe properties for a `DihedralType` and `ImproperType` respectively."
   ]
  },
  {
   "cell_type": "code",
   "execution_count": null,
   "id": "539a5da2",
   "metadata": {},
   "outputs": [],
   "source": [
    "from gmso.core.parametric_potential import ParametricPotential\n",
    "\n",
    "# Handle potential expression using separate Expression class\n",
    "new_potential = ParametricPotential(\n",
    "    name='mypotential',\n",
    "    expression='a*x+b',\n",
    "    parameters={\n",
    "        'a': 1.0*u.g,\n",
    "        'b': 1.0*u.m\n",
    "    },\n",
    "    independent_variables={'x'}\n",
    ")\n",
    "\n",
    "try:\n",
    "    new_potential.independent_variables = 'y'\n",
    "except ValueError as e:\n",
    "    print(e)"
   ]
  },
  {
   "cell_type": "code",
   "execution_count": null,
   "id": "81609708",
   "metadata": {},
   "outputs": [],
   "source": [
    "from gmso import Topology, Atom, Bond\n",
    "methane_top = Topology()\n",
    "c = Atom(name='c')\n",
    "h1 = Atom(name='h1')\n",
    "h2 = Atom(name='h2')\n",
    "h3 = Atom(name='h3')\n",
    "h4 = Atom(name='h4')\n",
    "ch1 = Bond(connection_members=[c,h1])\n",
    "ch2 = Bond(connection_members=[c,h2])\n",
    "ch3 = Bond(connection_members=[c,h3])\n",
    "ch4 = Bond(connection_members=[c,h4])\n",
    "methane_top.add_site(c, update_types=False)\n",
    "methane_top.add_site(h1, update_types=False)\n",
    "methane_top.add_site(h2, update_types=False)\n",
    "methane_top.add_site(h3, update_types=False)\n",
    "methane_top.add_site(h4, update_types=False)\n",
    "methane_top.add_connection(ch1, update_types=False)\n",
    "methane_top.add_connection(ch2, update_types=False)\n",
    "methane_top.add_connection(ch3, update_types=False)\n",
    "methane_top.add_connection(ch4, update_types=False)\n",
    "\n",
    "# You can now infer angles, dihedrals and impropers from bonds\n",
    "print(methane_top.n_angles)  # No angles now\n",
    "methane_top.identify_connections() # Uses networkx to identify connections using subgraph isomorphism\n",
    "print(methane_top.n_angles) "
   ]
  },
  {
   "cell_type": "markdown",
   "id": "c88faadb",
   "metadata": {},
   "source": [
    "### Forcefield\n",
    "1. [`forcefield.py`](https://github.com/mosdef-hub/gmso/blob/main/gmso/core/forcefield.py): Defines the class `gmso.core.forcefield.ForceField` which defines the in memory representation of the gmso forcefield schema. An example forcefield XML (`tip3p.xml`) is shown below:"
   ]
  },
  {
   "cell_type": "code",
   "execution_count": null,
   "id": "0b141468",
   "metadata": {},
   "outputs": [],
   "source": [
    "from gmso import ForceField \n",
    "from gmso.tests.utils import get_path\n",
    "tip3p_ff = ForceField(get_path('tip3p.xml'))\n",
    "tip3p_ff.bond_types"
   ]
  },
  {
   "cell_type": "code",
   "execution_count": null,
   "id": "c3b8f6b8",
   "metadata": {},
   "outputs": [],
   "source": []
  }
 ],
 "metadata": {
  "kernelspec": {
   "display_name": "Python 3 (ipykernel)",
   "language": "python",
   "name": "python3"
  },
  "language_info": {
   "codemirror_mode": {
    "name": "ipython",
    "version": 3
   },
   "file_extension": ".py",
   "mimetype": "text/x-python",
   "name": "python",
   "nbconvert_exporter": "python",
   "pygments_lexer": "ipython3",
   "version": "3.11.3"
  }
 },
 "nbformat": 4,
 "nbformat_minor": 5
}

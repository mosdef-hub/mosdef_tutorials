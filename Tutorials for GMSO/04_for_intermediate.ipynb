{
 "cells": [
  {
   "cell_type": "markdown",
   "id": "2606ae8e",
   "metadata": {},
   "source": [
    "# GMSO - General Molecular Simulation Object\n",
    "\n",
    "## Coarse Graining\n",
    "\n",
    "[GMSO](https://github.com/mosdef-hub/gmso) allows for engine agnostic python object to store everything needed for writing molecule input files for simulation.\n",
    "\n",
    "\n",
    "This notebook is designed to provide basics for interfacing with GMSO. Tutorials get more in-depth in terms of complex usage denoted by the `beginners`, `intermediates`, and `experts` tags on these notebooks. For a full list of the examples discussed in these tutorials, please see [the GMSO Tutorials README](README.md).\n",
    "\n",
    "After completing this notebook, move on to [this notebook](05_for_experts.ipynb) to learn about how to deal with core classes.\n",
    "\n",
    "Contained in this notebook is examples of:\n",
    "* Complex writer handling\n",
    "* Coarse graining\n",
    "\n",
    "---"
   ]
  },
  {
   "cell_type": "code",
   "execution_count": null,
   "id": "c45affba",
   "metadata": {},
   "outputs": [],
   "source": [
    "import gmso\n",
    "from gmso.parameterization import apply"
   ]
  },
  {
   "cell_type": "markdown",
   "id": "02ccd6eb",
   "metadata": {},
   "source": [
    "## Complex writer handling\n",
    "---"
   ]
  },
  {
   "cell_type": "code",
   "execution_count": null,
   "id": "3c115940",
   "metadata": {},
   "outputs": [],
   "source": [
    "# gromacs restraints/constraints"
   ]
  },
  {
   "cell_type": "code",
   "execution_count": null,
   "id": "6a32ca2a",
   "metadata": {},
   "outputs": [],
   "source": [
    "top = gmso.Topology.load(\"source_files/ethane-typed.json\")\n",
    "ff = gmso.ForceField(\"source_files/ethane.xml\")\n",
    "ptop = apply(top, ff, identify_connections=True)\n",
    "ptop.save(\"saved_files/ethane.lammps\", unit_style=\"real\", overwrite=True)\n",
    "! tail -n +24 saved_files/ethane.lammps | head -10"
   ]
  },
  {
   "cell_type": "code",
   "execution_count": null,
   "id": "4bec617a",
   "metadata": {},
   "outputs": [],
   "source": [
    "ptop.save(\"saved_files/ethane.lammps\", unit_style=\"nano\", overwrite=True)\n",
    "! tail -n +24 saved_files/ethane.lammps | head -10"
   ]
  },
  {
   "cell_type": "code",
   "execution_count": null,
   "id": "46704f63",
   "metadata": {},
   "outputs": [],
   "source": [
    "ptop.save(\"saved_files/ethane.lammps\", atom_style=\"molecular\", overwrite=True)\n",
    "# expects index, type, molecule id x, y, z \n",
    "! tail -n +42 saved_files/ethane.lammps | head -10"
   ]
  },
  {
   "cell_type": "markdown",
   "id": "d49fbe49",
   "metadata": {},
   "source": [
    "## Coarse graining\n",
    "---"
   ]
  },
  {
   "cell_type": "code",
   "execution_count": null,
   "id": "c7a9447d",
   "metadata": {},
   "outputs": [],
   "source": [
    "# hoomd coarse grained\n",
    "# grits?"
   ]
  },
  {
   "cell_type": "code",
   "execution_count": null,
   "id": "8ccb1efe",
   "metadata": {},
   "outputs": [],
   "source": [
    "top = gmso.Topology.load(\"source_files/cg-benzene.json\")\n",
    "ff = gmso.ForceField(\"source_files/cg-trappe.xml\")\n",
    "ptop = apply(top, ff, identify_connections=True)"
   ]
  }
 ],
 "metadata": {
  "kernelspec": {
   "display_name": "Python 3 (ipykernel)",
   "language": "python",
   "name": "python3"
  },
  "language_info": {
   "codemirror_mode": {
    "name": "ipython",
    "version": 3
   },
   "file_extension": ".py",
   "mimetype": "text/x-python",
   "name": "python",
   "nbconvert_exporter": "python",
   "pygments_lexer": "ipython3",
   "version": "3.11.3"
  }
 },
 "nbformat": 4,
 "nbformat_minor": 5
}

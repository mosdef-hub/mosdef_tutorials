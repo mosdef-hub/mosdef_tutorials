{
 "cells": [
  {
   "cell_type": "markdown",
   "id": "fd146825",
   "metadata": {},
   "source": [
    "# GMSO - General Molecular Simulation Object\n",
    "\n",
    "## Using the `Topology`\n",
    "\n",
    "[GMSO](https://github.com/mosdef-hub/gmso) allows for engine agnostic python object to store everything needed for writing molecule input files for simulation.\n",
    "\n",
    "In this overview, we will be focusing specifically on the tools we've developed to address the issue of **_system initialization_**, including the creation of a molecular model, the application of a force field (atom-typing and parameter assignment), and output molecular files. The three tools contained within MoSDeF to address system initialization are:\n",
    "\n",
    "\n",
    "This notebook is designed to provide basics for interfacing with GMSO. Tutorials get more in-depth in terms of complex usage denoted by the `beginners`, `intermediates`, and `experts` tags on these notebooks. For a full list of the examples discussed in these tutorials, please see [the GMSO Tutorials README](readme.md) hub/mosdef_tutorials).\n",
    "\n",
    "Contained in this notebook is examples of:\n",
    "* Loading topologies\n",
    "* Saving topologies\n",
    "\n",
    "\n",
    "---"
   ]
  },
  {
   "cell_type": "code",
   "execution_count": null,
   "id": "d8f9eb34",
   "metadata": {},
   "outputs": [],
   "source": [
    "import gmso\n",
    "import copy\n",
    "import warnings\n",
    "\n",
    "warnings.simplefilter(\"ignore\")"
   ]
  },
  {
   "cell_type": "markdown",
   "id": "c86460ac",
   "metadata": {},
   "source": [
    "## Loading `topologies`\n",
    "---\n",
    "Molecular `topologies` are the key component of GMSO, and its generalizeability is emphasized by the number of sources that you can load the `topology` from. "
   ]
  },
  {
   "cell_type": "code",
   "execution_count": null,
   "id": "3a87f85a",
   "metadata": {},
   "outputs": [],
   "source": [
    "# load from files\n",
    "# mol2, gro, lammps, json, xyz, \n",
    "for fn in [\"mol2\", \"gro\", \"lammps\", \"json\", \"xyz\"]:\n",
    "    top = gmso.Topology.load(f\"source_files/top.{fn}\")\n",
    "    display(fn+\": \", top)\n"
   ]
  },
  {
   "cell_type": "markdown",
   "id": "6673d98b",
   "metadata": {},
   "source": [
    "Conversion from python objects"
   ]
  },
  {
   "cell_type": "code",
   "execution_count": null,
   "id": "2b3f3377",
   "metadata": {},
   "outputs": [],
   "source": [
    "# mbuild, https://mbuild.mosdef.org/en/stable/topic_guides/load_data.html\n",
    "from gmso.external import from_mbuild, from_parmed\n",
    "! wget -O source_files/3UQ6.pdb https://files.rcsb.org/view/3UQ6.pdb\n",
    "import mbuild as mb\n",
    "cpd = mb.load(\"source_files/3UQ6.pdb\") # for more info, see other loaders mBuild offers\n",
    "top = from_mbuild(cpd)\n",
    "top"
   ]
  },
  {
   "cell_type": "code",
   "execution_count": null,
   "id": "afb4694e",
   "metadata": {},
   "outputs": [],
   "source": [
    "# parmed https://parmed.github.io/ParmEd/html/readwrite.html#writing-files-with-structure-save\n",
    "from gmso.external import from_parmed\n",
    "import parmed as pmd\n",
    "structure = pmd.load_file(\"source_files/structure.inpcrd\", structure=True)\n",
    "top = from_parmed(structure)\n",
    "top"
   ]
  },
  {
   "cell_type": "code",
   "execution_count": null,
   "id": "d7b1221f",
   "metadata": {},
   "outputs": [],
   "source": [
    "# build internally\n",
    "from gmso.core.atom import Atom\n",
    "from gmso.core.bond import Bond\n",
    "top = gmso.Topology()\n",
    "c = Atom(name=\"c\")\n",
    "top.add_site(c)\n",
    "\n",
    "h1 = Atom(name=\"h1\")\n",
    "h2 = Atom(name=\"h2\")\n",
    "h3 = Atom(name=\"h3\")\n",
    "h4 = Atom(name=\"h4\")\n",
    "for site in [h1, h2, h3, h4]:\n",
    "    ch = Bond(connection_members=[c, site])\n",
    "    top.add_site(site)\n",
    "    top.add_connection(ch)\n",
    "\n",
    "top"
   ]
  },
  {
   "cell_type": "markdown",
   "id": "defae6e5",
   "metadata": {},
   "source": [
    "## Saving `topologies`\n",
    "---"
   ]
  },
  {
   "cell_type": "code",
   "execution_count": null,
   "id": "25b6f8b7",
   "metadata": {},
   "outputs": [],
   "source": [
    "# to files\n",
    "! mkdir saved_files #gromacs, gsd, json, lammps, mcf\n",
    "top = gmso.Topology.load(f\"source_files/top.json\")\n",
    "for fn in [\"gro\", \"lammps\", \"json\", \"xyz\", \"mcf\"]:\n",
    "    outpath = f\"saved_files/top.{fn}\"\n",
    "    print(f\"Saving out to {outpath}\")\n",
    "    new_top = copy.deepcopy(top) # make sure not to modify topology in place\n",
    "    new_top.save(outpath, overwrite=True)\n",
    "    \n",
    "    "
   ]
  },
  {
   "cell_type": "code",
   "execution_count": null,
   "id": "9f0f3dcd",
   "metadata": {},
   "outputs": [],
   "source": [
    "from gmso.external import to_hoomd_forcefield, to_hoomd_snapshot\n",
    "import unyt as u\n",
    "top = gmso.Topology.load(f\"source_files/top.json\")\n",
    "hoomd_ff = to_hoomd_forcefield(top, r_cut=1*u.nm)\n",
    "hoomd_snapshot = to_hoomd_snapshot(top)\n",
    "display(hoomd_ff, hoomd_snapshot)"
   ]
  },
  {
   "cell_type": "code",
   "execution_count": null,
   "id": "efa67858",
   "metadata": {},
   "outputs": [],
   "source": [
    "#parmed, mbuild\n",
    "from gmso.external import to_parmed, to_mbuild\n",
    "top = gmso.Topology.load(f\"source_files/top.json\")\n",
    "structure = to_parmed(top)\n",
    "cpd = to_mbuild(top)\n",
    "display(structure, cpd)"
   ]
  }
 ],
 "metadata": {
  "kernelspec": {
   "display_name": "Python 3 (ipykernel)",
   "language": "python",
   "name": "python3"
  },
  "language_info": {
   "codemirror_mode": {
    "name": "ipython",
    "version": 3
   },
   "file_extension": ".py",
   "mimetype": "text/x-python",
   "name": "python",
   "nbconvert_exporter": "python",
   "pygments_lexer": "ipython3",
   "version": "3.11.3"
  }
 },
 "nbformat": 4,
 "nbformat_minor": 5
}

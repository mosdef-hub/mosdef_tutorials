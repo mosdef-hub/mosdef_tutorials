{
 "cells": [
  {
   "cell_type": "markdown",
   "id": "86ed0465",
   "metadata": {},
   "source": [
    "# GMSO - General Molecular Simulation Object\n",
    "\n",
    "## Atomtyping\n",
    "\n",
    "[GMSO](https://github.com/mosdef-hub/gmso) allows for engine agnostic python object to store everything needed for writing molecule input files for simulation.\n",
    "\n",
    "\n",
    "This notebook is designed to provide advanced principles for interfacing with GMSO. Tutorials get more in-depth in terms of complex usage denoted by the `beginners`, `intermediates`, and `experts` tags on these notebooks. For a full list of the examples discussed in these tutorials, please see [the GMSO Tutorials README](README.md).\n",
    "\n",
    "After completing this notebook, move on to [this notebook](07_for_experts.ipynb) to learn about how to convert entire topologies.\n",
    "\n",
    "Contained in this notebook is examples of:\n",
    "* Optimizing atomtyping\n",
    "* Handling failed atomtyping\n",
    "* Filtering for unique_types\n",
    "* Sorting a topology\n"
   ]
  },
  {
   "cell_type": "code",
   "execution_count": null,
   "id": "5962bb30",
   "metadata": {},
   "outputs": [],
   "source": [
    "# imports\n",
    "import copy\n",
    "import time\n",
    "import numpy as np\n",
    "import warnings\n",
    "warnings.simplefilter('ignore')\n",
    "\n",
    "import gmso\n",
    "from gmso.parameterization import apply"
   ]
  },
  {
   "cell_type": "markdown",
   "id": "d5a05cbb",
   "metadata": {},
   "source": [
    "## Optimizing atomtyping"
   ]
  },
  {
   "cell_type": "code",
   "execution_count": null,
   "id": "1d237697",
   "metadata": {},
   "outputs": [],
   "source": [
    "def timed_typing(n_repeats, kwargs):\n",
    "    timesList = []\n",
    "    for i in range(n_repeats):\n",
    "        top = gmso.Topology.load(\"source_files/ethane-box.json\")\n",
    "        ff = gmso.ForceField(\"oplsaa\")\n",
    "        start = time.perf_counter()\n",
    "        apply(top, {\"Compound\":ff}, identify_connections=True, **kwargs)\n",
    "        stop = time.perf_counter()\n",
    "        timesList.append(stop-start)\n",
    "    print(f\"{np.mean(timesList):.2f} +- {np.std(timesList):.2f} s\")"
   ]
  },
  {
   "cell_type": "code",
   "execution_count": null,
   "id": "812c3b05",
   "metadata": {},
   "outputs": [],
   "source": [
    "# base atomtyping\n",
    "\n",
    "n_repeats = 1\n",
    "timed_typing(n_repeats, kwargs={})"
   ]
  },
  {
   "cell_type": "code",
   "execution_count": null,
   "id": "f05fb274",
   "metadata": {},
   "outputs": [],
   "source": [
    "# atomtype by isomorphic graphs\n",
    "\n",
    "n_repeats = 1\n",
    "timed_typing(n_repeats, kwargs={\"speedup_by_molgraph\":True})"
   ]
  },
  {
   "cell_type": "code",
   "execution_count": null,
   "id": "85ef5b89",
   "metadata": {},
   "outputs": [],
   "source": [
    "# atomtype by molecule tagged to sites\n",
    "\n",
    "n_repeats = 1\n",
    "timed_typing(n_repeats, kwargs={\"speedup_by_moltag\":True})"
   ]
  },
  {
   "cell_type": "markdown",
   "id": "9eb8b556",
   "metadata": {},
   "source": [
    "## Filtering for unique types\n",
    "Many times, it's import to parse through a topology and count the number of different types that are being used. However, uniqueness could be considered in a number of different ways. We have fabricated commonly used ones as `PotentialFilters`. But any sorting function could be passed to the `filter_by` argument of the topology types to isolate whatever attributes are to be considered \"unique\"."
   ]
  },
  {
   "cell_type": "code",
   "execution_count": null,
   "id": "6672482e",
   "metadata": {},
   "outputs": [],
   "source": [
    "from gmso.core.views import PotentialFilters\n",
    "print(PotentialFilters.all())\n",
    "top = gmso.Topology.load(\"source_files/ethane-typed.json\")\n",
    "\n",
    "# filter atomtypes\n",
    "print(len(list(top.atom_types(filter_by=PotentialFilters.UNIQUE_SORTED_NAMES))))"
   ]
  },
  {
   "cell_type": "code",
   "execution_count": null,
   "id": "33030023",
   "metadata": {},
   "outputs": [],
   "source": [
    "# filter angle\n",
    "print(list(top.angle_types(filter_by=PotentialFilters.UNIQUE_PARAMETERS)))\n",
    "print(len(list(top.angle_types(filter_by=PotentialFilters.UNIQUE_PARAMETERS))))"
   ]
  },
  {
   "cell_type": "markdown",
   "id": "0c9f0721",
   "metadata": {},
   "source": [
    "## Sorting a topology\n",
    "Typically, it's nice to have topologies written in a manner that is consistent. Because of this, sometimes we need to sort the potentials in a way that they're easy to find. However, this sorting is typically done in the writers. Please look at `gmso/formats` module to check how any individual engine is sorted."
   ]
  },
  {
   "cell_type": "code",
   "execution_count": null,
   "id": "c427f138",
   "metadata": {},
   "outputs": [],
   "source": [
    "# sort atomtypes by name\n",
    "pfilter = PotentialFilters.UNIQUE_SORTED_NAMES\n",
    "atypesView = sorted(top.atom_types(filter_by=pfilter), key=lambda x: x.name)\n",
    "print(list(atypesView))"
   ]
  },
  {
   "cell_type": "code",
   "execution_count": null,
   "id": "d904adb1",
   "metadata": {},
   "outputs": [],
   "source": [
    "# sort bondtypes\n",
    "pfilter = PotentialFilters.UNIQUE_SORTED_NAMES\n",
    "bond_types = list(top.bond_types(filter_by=pfilter)) # make a list of all unique types\n",
    "bond_types.sort(key=lambda x: sorted(x.member_types)) # sort that by the elements of that list\n",
    "print(bond_types)"
   ]
  }
 ],
 "metadata": {
  "kernelspec": {
   "display_name": "Python 3 (ipykernel)",
   "language": "python",
   "name": "python3"
  },
  "language_info": {
   "codemirror_mode": {
    "name": "ipython",
    "version": 3
   },
   "file_extension": ".py",
   "mimetype": "text/x-python",
   "name": "python",
   "nbconvert_exporter": "python",
   "pygments_lexer": "ipython3",
   "version": "3.11.3"
  }
 },
 "nbformat": 4,
 "nbformat_minor": 5
}

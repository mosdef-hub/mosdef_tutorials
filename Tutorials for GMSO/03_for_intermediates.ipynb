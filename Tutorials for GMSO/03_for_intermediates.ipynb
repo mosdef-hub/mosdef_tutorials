{
 "cells": [
  {
   "cell_type": "markdown",
   "id": "801aaafa",
   "metadata": {},
   "source": [
    "# GMSO - General Molecular Simulation Object\n",
    "\n",
    "## Complex Atomtyping\n",
    "\n",
    "[GMSO](https://github.com/mosdef-hub/gmso) allows for engine agnostic python object to store everything needed for writing molecule input files for simulation.\n",
    "\n",
    "\n",
    "This notebook is designed to provide basics for interfacing with GMSO. Tutorials get more in-depth in terms of complex usage denoted by the `beginners`, `intermediates`, and `experts` tags on these notebooks. For a full list of the examples discussed in these tutorials, please see [the GMSO Tutorials README](README.md).\n",
    "\n",
    "After completing this notebook, move on to [this notebook](04_for_intermediates.ipynb) to learn about how to write complex coarse-grained systems in `GMSO`.\n",
    "\n",
    "Contained in this notebook is examples of:\n",
    "* Typed vs untyped topologies\n",
    "* Interactive `networkx`\n",
    "* More complex writing\n",
    "\n",
    "---"
   ]
  },
  {
   "cell_type": "code",
   "execution_count": 2,
   "id": "d3e51e9b",
   "metadata": {},
   "outputs": [
    {
     "name": "stderr",
     "output_type": "stream",
     "text": [
      "/Users/calcraven/miniconda3/envs/gmso-dev/lib/python3.11/site-packages/mdtraj/formats/__init__.py:6: DeprecationWarning: 'xdrlib' is deprecated and slated for removal in Python 3.13\n",
      "  from .xtc import XTCTrajectoryFile\n",
      "/Users/calcraven/Dropbox/Mac/Documents/Vanderbilt/Research/MoSDeF/test_mosdef_repos/mbuild/mbuild/recipes/__init__.py:13: DeprecationWarning: SelectableGroups dict interface is deprecated. Use select.\n",
      "  entry_points = metadata.entry_points()[\"mbuild.plugins\"]\n"
     ]
    }
   ],
   "source": [
    "import gmso\n",
    "from gmso.parameterization import apply"
   ]
  },
  {
   "cell_type": "markdown",
   "id": "0072ea29",
   "metadata": {},
   "source": [
    "## Typed vs untyped topologies\n",
    "---"
   ]
  },
  {
   "cell_type": "code",
   "execution_count": 3,
   "id": "8cdf8423",
   "metadata": {},
   "outputs": [
    {
     "data": {
      "text/plain": [
       "False"
      ]
     },
     "execution_count": 3,
     "metadata": {},
     "output_type": "execute_result"
    }
   ],
   "source": [
    "top = gmso.Topology.load(\"source_files/ethane.json\")\n",
    "top.is_typed()"
   ]
  },
  {
   "cell_type": "code",
   "execution_count": 4,
   "id": "4b4e4475",
   "metadata": {},
   "outputs": [
    {
     "name": "stderr",
     "output_type": "stream",
     "text": [
      "/Users/calcraven/Dropbox/Mac/Documents/Vanderbilt/Research/MoSDeF/gmso/gmso/core/forcefield.py:367: UserWarning: BondType between atoms CT and CT is missing from the ForceField\n",
      "  warnings.warn(msg)\n",
      "/Users/calcraven/Dropbox/Mac/Documents/Vanderbilt/Research/MoSDeF/gmso/gmso/core/forcefield.py:367: UserWarning: BondType between atoms CT and HC is missing from the ForceField\n",
      "  warnings.warn(msg)\n",
      "/Users/calcraven/Dropbox/Mac/Documents/Vanderbilt/Research/MoSDeF/gmso/gmso/core/forcefield.py:398: UserWarning: AngleType between atoms CT, CT and HC is missing from the ForceField\n",
      "  warnings.warn(msg)\n",
      "/Users/calcraven/Dropbox/Mac/Documents/Vanderbilt/Research/MoSDeF/gmso/gmso/core/forcefield.py:398: UserWarning: AngleType between atoms HC, CT and HC is missing from the ForceField\n",
      "  warnings.warn(msg)\n",
      "/Users/calcraven/Dropbox/Mac/Documents/Vanderbilt/Research/MoSDeF/gmso/gmso/core/forcefield.py:459: UserWarning: DihedralType between atoms HC, CT, CT and HC is missing from the ForceField.\n",
      "  warnings.warn(msg)\n",
      "/Users/calcraven/Dropbox/Mac/Documents/Vanderbilt/Research/MoSDeF/gmso/gmso/core/forcefield.py:533: UserWarning: ImproperType between atoms CT, CT, HC and HC is missing from the ForceField.\n",
      "  warnings.warn(msg)\n",
      "/Users/calcraven/Dropbox/Mac/Documents/Vanderbilt/Research/MoSDeF/gmso/gmso/core/forcefield.py:533: UserWarning: ImproperType between atoms opls_135, opls_135, opls_140 and opls_140 is missing from the ForceField.\n",
      "  warnings.warn(msg)\n",
      "/Users/calcraven/Dropbox/Mac/Documents/Vanderbilt/Research/MoSDeF/gmso/gmso/core/forcefield.py:533: UserWarning: ImproperType between atoms CT, HC, HC and HC is missing from the ForceField.\n",
      "  warnings.warn(msg)\n",
      "/Users/calcraven/Dropbox/Mac/Documents/Vanderbilt/Research/MoSDeF/gmso/gmso/core/forcefield.py:533: UserWarning: ImproperType between atoms opls_135, opls_140, opls_140 and opls_140 is missing from the ForceField.\n",
      "  warnings.warn(msg)\n",
      "/Users/calcraven/Dropbox/Mac/Documents/Vanderbilt/Research/MoSDeF/gmso/gmso/core/topology.py:818: DeprecationWarning: Conversion of an array with ndim > 0 to a scalar is deprecated, and will error in future. Ensure you extract a single element from your array before performing this operation. (Deprecated NumPy 1.25.)\n",
      "  all_scales[index][scaling_interaction_idxes[interaction]] = value\n",
      "/Users/calcraven/Dropbox/Mac/Documents/Vanderbilt/Research/MoSDeF/gmso/gmso/core/topology.py:818: DeprecationWarning: Conversion of an array with ndim > 0 to a scalar is deprecated, and will error in future. Ensure you extract a single element from your array before performing this operation. (Deprecated NumPy 1.25.)\n",
      "  all_scales[index][scaling_interaction_idxes[interaction]] = value\n"
     ]
    },
    {
     "data": {
      "text/plain": [
       "True"
      ]
     },
     "execution_count": 4,
     "metadata": {},
     "output_type": "execute_result"
    }
   ],
   "source": [
    "ff = gmso.ForceField(\"source_files/ethane.xml\")\n",
    "ptop = apply(top, ff, identify_connections=True)\n",
    "ptop.is_typed()"
   ]
  },
  {
   "cell_type": "code",
   "execution_count": 7,
   "id": "1ec0d7cd",
   "metadata": {},
   "outputs": [
    {
     "name": "stderr",
     "output_type": "stream",
     "text": [
      "/Users/calcraven/Dropbox/Mac/Documents/Vanderbilt/Research/MoSDeF/gmso/gmso/formats/json.py:49: UserWarning: The provided topology is typed and `types` is set to False. The types(potentials) info will be lost in the serialized representation. Please consider using `types=True` if this behavior is not intended. \n",
      "  warnings.warn(\n"
     ]
    }
   ],
   "source": [
    "ptop.save(\"source_files/typed-ethane.json\", overwrite=True)"
   ]
  },
  {
   "cell_type": "markdown",
   "id": "315d5050",
   "metadata": {},
   "source": [
    "## Interactive networkx\n",
    "---"
   ]
  },
  {
   "cell_type": "code",
   "execution_count": null,
   "id": "7c7fa0be",
   "metadata": {},
   "outputs": [],
   "source": [
    "top = gmso.Topology.load(\"source_files/ethane.json\")\n",
    "top.is_typed()\n",
    "ff = gmso.ForceField(\"source_files/ethane.xml\")\n",
    "ptop = apply(\n",
    "    top, ff, identify_connections=True, \n",
    "    ignore_params=[\"site\", \"bond\", \"angle\", \"dihedral\", \"improper\"],\n",
    "    remove_untyped=False\n",
    ")"
   ]
  },
  {
   "cell_type": "code",
   "execution_count": null,
   "id": "dacd8eb2",
   "metadata": {},
   "outputs": [],
   "source": [
    "from gmso.formats.networkx import interactive_networkx_atomtypes\n",
    "interactive_networkx_atomtypes(ptop)"
   ]
  },
  {
   "cell_type": "markdown",
   "id": "9d531e58",
   "metadata": {},
   "source": [
    "## More complex writing\n",
    "---"
   ]
  },
  {
   "cell_type": "code",
   "execution_count": null,
   "id": "4db4206d",
   "metadata": {},
   "outputs": [],
   "source": [
    "import mbuild as mb\n",
    "from pdbfixer import PDBFixer \n",
    "from openmm.app import PDBFile\n",
    "\n",
    "from gmso.external import from_mbuild, from_parmed\n",
    "! wget -O source_files/3O49.pdb https://files.rcsb.org/view/3O49.pdb\n",
    "\n",
    "fixer = PDBFixer(filename=\"source_files/3O49.pdb\")\n",
    "fixer.addMissingHydrogens(7.0)\n",
    "PDBFile.writeFile(fixer.topology, fixer.positions, open(\"saved_files/protein.pdb\", 'w'))\n",
    "protein = mb.load(\"saved_files/protein.pdb\")\n",
    "children_to_remove = set()\n",
    "for particle in protein.particles():\n",
    "    if \"HOH\" in particle.parent.name:\n",
    "        children_to_remove.add(particle)\n",
    "protein.remove(children_to_remove)\n",
    "\n",
    "water = mb.load(\"O\", smiles=True)\n",
    "water.name=\"water\"\n",
    "cpd = mb.fill_box([protein, water], [1,1000], box=[10,20,10])\n",
    "\n",
    "\n",
    "top = cpd.to_gmso()\n",
    "top"
   ]
  },
  {
   "cell_type": "code",
   "execution_count": null,
   "id": "26681229",
   "metadata": {},
   "outputs": [],
   "source": [
    "waterXml = gmso.ForceField(\"source_files/tip3p.xml\")\n",
    "waterXml.combining_rule = \"geometric\"\n",
    "proteinXml = gmso.ForceField(\"oplsaa\")\n",
    "proteinXml = gmso.ForceField(\"../../../gmso/gmso/utils/files/gmso_xmls/test_ffstyles/gaff.xml\")\n",
    "\n",
    "molecules = top.unique_site_labels(name_only=True)\n",
    "ffDict = {}\n",
    "for mol in molecules:\n",
    "    if mol == \"water\":\n",
    "        ffDict[mol] = waterXml\n",
    "    else:\n",
    "        ffDict[mol] = proteinXml\n",
    "\n",
    "parameterizedTop = apply(\n",
    "    top, ffDict, identify_connections=True,\n",
    "    ignore_params=[\"site\", \"bond\", \"angle\", \"dihedral\", \"improper\"],\n",
    "    remove_untyped=False,\n",
    ")"
   ]
  },
  {
   "cell_type": "code",
   "execution_count": null,
   "id": "bd11dce9",
   "metadata": {},
   "outputs": [],
   "source": [
    "parameterizedTop.is_fully_typed()"
   ]
  },
  {
   "cell_type": "code",
   "execution_count": null,
   "id": "6fd0ce92",
   "metadata": {},
   "outputs": [],
   "source": [
    "missing_types = parameterizedTop.get_untyped(\"topology\")\n",
    "for missing in missing_types:\n",
    "    print(f\"Missing types for {missing}: {len(missing_types[missing])}\")"
   ]
  },
  {
   "cell_type": "code",
   "execution_count": null,
   "id": "bba77182",
   "metadata": {},
   "outputs": [],
   "source": []
  }
 ],
 "metadata": {
  "kernelspec": {
   "display_name": "Python 3 (ipykernel)",
   "language": "python",
   "name": "python3"
  },
  "language_info": {
   "codemirror_mode": {
    "name": "ipython",
    "version": 3
   },
   "file_extension": ".py",
   "mimetype": "text/x-python",
   "name": "python",
   "nbconvert_exporter": "python",
   "pygments_lexer": "ipython3",
   "version": "3.11.3"
  }
 },
 "nbformat": 4,
 "nbformat_minor": 5
}

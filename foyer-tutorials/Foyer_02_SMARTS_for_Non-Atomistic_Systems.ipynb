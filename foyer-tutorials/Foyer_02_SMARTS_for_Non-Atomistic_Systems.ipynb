{
 "cells": [
  {
   "cell_type": "markdown",
   "metadata": {
    "collapsed": true
   },
   "source": [
    "# Foyer Tutorial 02: SMARTS for Non-Atomistic Systems\n",
    "\n",
    "This tutorial focuses on how to perform atom-typing for systems that are not fully atomistic (i.e., united-atom models and coarse-grained models). "
   ]
  },
  {
   "cell_type": "markdown",
   "metadata": {},
   "source": [
    "Thus far, all of our tutorials for mBuild and Foyer have focused on fully atomistic systems, however, MoSDeF is not limited to such systems. \n",
    "\n",
    "First, we will demonstrate how to construct a generic coarse-grained polymer system using mBuild, then demonstrate how to define an associated forcefield file."
   ]
  },
  {
   "cell_type": "code",
   "execution_count": null,
   "metadata": {},
   "outputs": [],
   "source": [
    "import mbuild as mb"
   ]
  },
  {
   "cell_type": "markdown",
   "metadata": {},
   "source": [
    "As done previous in the mBuild tutorials, we will create `Compounds` to describe repeat units in our polymer. Here we will create two `Compounds`, one to describe the central beads (`_A`) and one for the terminal groups (`_B`).\n",
    "\n",
    "Note, to properly handle non-atomistic types, Foyer expects names to be prefaced by an underscore (e.g., `_A`,`_B`, `_CH2`, etc. )."
   ]
  },
  {
   "cell_type": "code",
   "execution_count": null,
   "metadata": {},
   "outputs": [],
   "source": [
    "class CentralBead(mb.Compound):\n",
    "    def __init__(self):\n",
    "        super(CentralBead, self).__init__()\n",
    "        \n",
    "        bead = mb.Particle(pos=[0.0, 0.0, 0.0], name='_A')\n",
    "        self.add(bead)\n",
    "        up_port = mb.Port(anchor=bead, orientation=[0, 0, 1], separation=0.05)\n",
    "        down_port = mb.Port(anchor=bead, orientation=[0, 0, -1], separation=0.05)\n",
    "        self.add(up_port, label='up')\n",
    "        self.add(down_port, label='down')\n",
    "        \n",
    "class TerminalBead(mb.Compound):\n",
    "    def __init__(self):\n",
    "        super(TerminalBead, self).__init__()\n",
    "        \n",
    "        bead = mb.Particle(pos=[0.0, 0.0, 0.0], name='_B')\n",
    "        self.add(bead)\n",
    "\n",
    "        cap_port = mb.Port(anchor=bead, orientation=[0, 0, 1], separation=0.05)\n",
    "        self.add(cap_port, label='cap')\n",
    "\n",
    "class CGPolymer(mb.Compound):\n",
    "    def __init__(self, chain_length):\n",
    "        super(CGPolymer, self).__init__()\n",
    "        \n",
    "        terminal_bead = TerminalBead()\n",
    "        last_unit = CentralBead()\n",
    "        mb.force_overlap(move_this=terminal_bead,\n",
    "                         from_positions=terminal_bead['cap'],\n",
    "                         to_positions=last_unit['up'])\n",
    "        self.add(last_unit, label='_A[$]')\n",
    "        self.add(terminal_bead, label='up-cap')   \n",
    "        for _ in range(chain_length - 3):\n",
    "            current_unit = CentralBead()\n",
    "            mb.force_overlap(move_this=current_unit,\n",
    "                             from_positions=current_unit['up'],\n",
    "                             to_positions=last_unit['down'])\n",
    "            self.add(current_unit, label='_A[$]')\n",
    "            last_unit=current_unit\n",
    "        terminal_bead = TerminalBead()\n",
    "        mb.force_overlap(move_this=terminal_bead,\n",
    "                         from_positions=terminal_bead['cap'],\n",
    "                         to_positions=last_unit['down'])\n",
    "        self.add(terminal_bead, label='down-cap')\n",
    "        if chain_length < 3:\n",
    "            print(\"Note, the shortest chain this function will make is 3\")\n",
    "cg_polymer = CGPolymer(chain_length=6)\n",
    "cg_polymer.visualize()"
   ]
  },
  {
   "cell_type": "markdown",
   "metadata": {},
   "source": [
    "With a simple mBuild code to create CG polymers, let us examine how to define a forcefield file.\n",
    "\n",
    "In this forcefield, we will assume all particles have the same bonds, angles, and Lennard-Jones sigma, regardless of type, however, we will modify Lennard-Jones epsilon based on chemical context. \n",
    "\n",
    "Here we will define the forcefield such that:\n",
    "- when bead `_A` has 2 bonded neighbors of type `_A`, epsilon = 1.0 \n",
    " - atom-type: `cg_A_AA`\n",
    " - SMARTS definition: `[_A;X2](_A)(_A)`\n",
    "- when bead `_A` has 1 bonded neighbor of type `_A` and one of type `_B`, epsilon = 1.25 \n",
    " - atom-type `cg_A_AB`\n",
    " - SMARTS definition: `[_A;X2](_A)(_B)`\n",
    "- when bead `_A` has 2 bonded neighbors of type `_B`  epsilon = 1.5\n",
    " - atom-type `cg_A_BB`\n",
    " - SMARTS definition: `[_A;X2](_B)(_B)`\n",
    "- when bead `_B` has any neighbor, epsilon = 2.0 regardless of who it is bonded \n",
    " - `atom-type cg_B`\n",
    " - SMARTS definition: `[_B;X1]`\n",
    "\n",
    "The xml forcefield file is shown below:"
   ]
  },
  {
   "cell_type": "code",
   "execution_count": null,
   "metadata": {},
   "outputs": [],
   "source": [
    "cat CG_polymer.xml"
   ]
  },
  {
   "cell_type": "code",
   "execution_count": null,
   "metadata": {},
   "outputs": [],
   "source": [
    "cg_polymer.save('CGpolymer.top', forcefield_files='CG_polymer.xml', overwrite=True)"
   ]
  },
  {
   "cell_type": "markdown",
   "metadata": {},
   "source": [
    "We can then easily view the outputted file to check for correctness"
   ]
  },
  {
   "cell_type": "code",
   "execution_count": null,
   "metadata": {},
   "outputs": [],
   "source": [
    "cat CGpolymer.top"
   ]
  },
  {
   "cell_type": "markdown",
   "metadata": {},
   "source": [
    "The above example does not include atom-type `cg_A_BB`; to test that our definition is correct, we will create a shorter polymer of length 3 that will include this type."
   ]
  },
  {
   "cell_type": "code",
   "execution_count": null,
   "metadata": {},
   "outputs": [],
   "source": [
    "cg_polymer3 = CGPolymer(chain_length=3)\n",
    "cg_polymer3.save('CGpolymer3.top', forcefield_files='CG_polymer.xml', overwrite=True)"
   ]
  },
  {
   "cell_type": "code",
   "execution_count": null,
   "metadata": {},
   "outputs": [],
   "source": [
    "cat CGpolymer3.top"
   ]
  },
  {
   "cell_type": "markdown",
   "metadata": {},
   "source": [
    "The same approach can be taken for united atom forcefields, such as TraPPE. The following line could be used to describe beads representing _CH2 groups in a polymer. \n",
    "\n",
    "`  <Type name=\"CH2_sp3\" class=\"CH2\" element=\"_CH2\" mass=\"14.02700\" \n",
    "   def=\"[_CH2;X2]([_CH3,_CH2])[_CH3,_CH2]\" \n",
    "   desc=\"Alkane CH2, united atom\" doi=\"10.1021/jp972543+\"/>`\n",
    "  \n",
    "Here, the SMARTS definition `[_CH2;X2]([_CH3,_CH2])[_CH3,_CH2]` states that for atom-type `CH2_sp3`\n",
    "-  our bead is _CH2 with 2 bonded neighbors, i.e., `[_CH2;X2]`\n",
    "- those neighbors can be either _CH2 or _CH3, i.e., `([_CH3,_CH2])[_CH3,_CH2]`\n"
   ]
  },
  {
   "cell_type": "code",
   "execution_count": null,
   "metadata": {},
   "outputs": [],
   "source": []
  }
 ],
 "metadata": {
  "kernelspec": {
   "display_name": "Python 3",
   "language": "python",
   "name": "python3"
  },
  "language_info": {
   "codemirror_mode": {
    "name": "ipython",
    "version": 3
   },
   "file_extension": ".py",
   "mimetype": "text/x-python",
   "name": "python",
   "nbconvert_exporter": "python",
   "pygments_lexer": "ipython3",
   "version": "3.5.4"
  }
 },
 "nbformat": 4,
 "nbformat_minor": 2
}

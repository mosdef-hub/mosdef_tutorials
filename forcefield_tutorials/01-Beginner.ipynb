{
 "cells": [
  {
   "cell_type": "markdown",
   "metadata": {},
   "source": [
    "# Force Field Tutorial 00: Beginner"
   ]
  },
  {
   "cell_type": "markdown",
   "metadata": {},
   "source": [
    "## Supported force field XML formats\n",
    "\n",
    "### Foyer - modified OpenMM - XML format\n",
    "```XML\n",
    "<ForceField version=\"0.0.1\" name=\"SPC/E Water\" combining_rule=\"geometric\">\n",
    " <AtomTypes>\n",
    "   <Type name=\"opls_116\" class=\"OW\" element=\"O\" mass=\"15.99940\" def=\"[O;X2](H)(H)\" desc=\"SPC/E Oxygen\" doi=\"10.1021/j100308a038\"/>\n",
    "   <Type name=\"opls_117\" class=\"HW\" element=\"H\" mass=\"1.00800\" def=\"[H;X1][O;X2](H)\" desc=\"SPC/E Hydrogen\" doi=\"10.1021/j100308a038\"/>\n",
    " </AtomTypes>\n",
    " <HarmonicBondForce>\n",
    "   <Bond class1=\"OW\" class2=\"HW\" length=\"0.100\" k=\"345000.0\"/>\n",
    " </HarmonicBondForce>\n",
    " <HarmonicAngleForce>\n",
    "   <Angle class1=\"HW\" class2=\"OW\" class3=\"HW\" angle=\"1.91061193\" k=\"383.0\"/>\n",
    " </HarmonicAngleForce>\n",
    " <NonbondedForce coulomb14scale=\"0.5\" lj14scale=\"0.5\">\n",
    "  <Atom type=\"opls_116\" charge=\"-0.8476\" sigma=\"0.316557\" epsilon=\"0.650194\"/>\n",
    "  <Atom type=\"opls_117\" charge=\"0.4238\" sigma=\"0.0\" epsilon=\"0.0\"/>\n",
    " </NonbondedForce>\n",
    "</ForceField>\n",
    "\n",
    "```\n",
    "\n",
    "\n",
    "\n",
    "### GMSO XML format\n",
    "```XML\n",
    "<?xml version='1.0' encoding='UTF-8'?>\n",
    "<ForceField name=\"SPC/E Water\" version=\"0.0.1\">\n",
    "  <FFMetaData electrostatics14Scale=\"0.5\" nonBonded14Scale=\"0.5\" combiningRule=\"geometric\">\n",
    "    <Units energy=\"kJ\" distance=\"nm\" mass=\"amu\" charge=\"elementary_charge\"/>\n",
    "  </FFMetaData>\n",
    "  <AtomTypes expression=\"4*epsilon*(-sigma**6/r**6 + sigma**12/r**12)\">\n",
    "    <ParametersUnitDef parameter=\"epsilon\" unit=\"kJ/mol\"/>\n",
    "    <ParametersUnitDef parameter=\"sigma\" unit=\"nm\"/>\n",
    "    <AtomType name=\"opls_116\" mass=\"15.9994\" charge=\"-0.8476\" atomclass=\"OW\" doi=\"10.1021/j100308a038\" definition=\"[O;X2](H)(H)\" description=\"SPC/E Oxygen\">\n",
    "      <Parameters>\n",
    "        <Parameter name=\"epsilon\" value=\"0.650194\"/>\n",
    "        <Parameter name=\"sigma\" value=\"0.316557\"/>\n",
    "      </Parameters>\n",
    "    </AtomType>\n",
    "    <AtomType name=\"opls_117\" mass=\"1.008\" charge=\"0.4238\" atomclass=\"HW\" doi=\"10.1021/j100308a038\" definition=\"[H;X1][O;X2](H)\" description=\"SPC/E Hydrogen\">\n",
    "      <Parameters>\n",
    "        <Parameter name=\"epsilon\" value=\"0.0\"/>\n",
    "        <Parameter name=\"sigma\" value=\"0.0\"/>\n",
    "      </Parameters>\n",
    "    </AtomType>\n",
    "  </AtomTypes>\n",
    "  <BondTypes expression=\"0.5*k*(r - r_eq)**2\">\n",
    "    <ParametersUnitDef parameter=\"k\" unit=\"kJ/(mol*nm**2)\"/>\n",
    "    <ParametersUnitDef parameter=\"r_eq\" unit=\"nm\"/>\n",
    "    <BondType name=\"HarmonicBondPotential\" class1=\"OW\" class2=\"HW\">\n",
    "      <Parameters>\n",
    "        <Parameter name=\"k\" value=\"345000.0\"/>\n",
    "        <Parameter name=\"r_eq\" value=\"0.1\"/>\n",
    "      </Parameters>\n",
    "    </BondType>\n",
    "  </BondTypes>\n",
    "  <AngleTypes expression=\"0.5*k*(theta - theta_eq)**2\">\n",
    "    <ParametersUnitDef parameter=\"k\" unit=\"kJ/(mol*rad**2)\"/>\n",
    "    <ParametersUnitDef parameter=\"theta_eq\" unit=\"rad\"/>\n",
    "    <AngleType name=\"HarmonicAnglePotential\" class1=\"HW\" class2=\"OW\" class3=\"HW\">\n",
    "      <Parameters>\n",
    "        <Parameter name=\"k\" value=\"383.0\"/>\n",
    "        <Parameter name=\"theta_eq\" value=\"1.91061193\"/>\n",
    "      </Parameters>\n",
    "    </AngleType>\n",
    "  </AngleTypes>\n",
    "</ForceField>\n",
    "\n",
    "```"
   ]
  },
  {
   "cell_type": "markdown",
   "metadata": {},
   "source": [
    "## Loading the Force Field XML \n",
    "\n",
    "Either formats above can be loaded to a `gmso.ForceField` object"
   ]
  },
  {
   "cell_type": "code",
   "execution_count": 6,
   "metadata": {},
   "outputs": [],
   "source": [
    "import gmso\n",
    "\n",
    "spce = gmso.ForceField(\"utils/gmso_spce.xml\")\n"
   ]
  },
  {
   "cell_type": "code",
   "execution_count": 10,
   "metadata": {},
   "outputs": [
    {
     "data": {
      "text/plain": [
       "unyt_quantity(-0.8476, 'elementary_charge')"
      ]
     },
     "execution_count": 10,
     "metadata": {},
     "output_type": "execute_result"
    }
   ],
   "source": [
    "spce.atom_types[\"opls_116\"].charge"
   ]
  },
  {
   "cell_type": "markdown",
   "metadata": {},
   "source": [
    "## Using the ForceField object"
   ]
  },
  {
   "cell_type": "code",
   "execution_count": 11,
   "metadata": {},
   "outputs": [],
   "source": [
    "import mbuild as mb\n",
    "import foyer\n",
    "import gmso\n",
    "from gmso.parameterization import apply"
   ]
  },
  {
   "cell_type": "code",
   "execution_count": 16,
   "metadata": {},
   "outputs": [],
   "source": [
    "spce_water = mb.lib.molecules.WaterSPC()\n",
    "# spce_water.visualize()\n"
   ]
  },
  {
   "cell_type": "markdown",
   "metadata": {},
   "source": [
    "### Parameterize Compound with OpenMM/Parmed/Foyer (Legacy)"
   ]
  },
  {
   "cell_type": "code",
   "execution_count": 14,
   "metadata": {},
   "outputs": [],
   "source": [
    "foyer_spce = foyer.Forcefield(\"utils/foyer_spce.xml\")\n",
    "struc = foyer_spce.apply(spce_water)"
   ]
  },
  {
   "cell_type": "markdown",
   "metadata": {},
   "source": [
    "### Parameterize Structure with GMSO/Foyer"
   ]
  },
  {
   "cell_type": "code",
   "execution_count": 15,
   "metadata": {},
   "outputs": [],
   "source": [
    "gmso_spce = gmso.ForceField(\"utils/gmso_spce.xml\")\n",
    "top = spce_water.to_gmso()\n",
    "top = apply(\n",
    "    top,\n",
    "    gmso_spce\n",
    ")"
   ]
  },
  {
   "cell_type": "code",
   "execution_count": 18,
   "metadata": {},
   "outputs": [
    {
     "data": {
      "text/html": [
       "<div>\n",
       "<style scoped>\n",
       "    .dataframe tbody tr th:only-of-type {\n",
       "        vertical-align: middle;\n",
       "    }\n",
       "\n",
       "    .dataframe tbody tr th {\n",
       "        vertical-align: top;\n",
       "    }\n",
       "\n",
       "    .dataframe thead th {\n",
       "        text-align: right;\n",
       "    }\n",
       "</style>\n",
       "<table border=\"1\" class=\"dataframe\">\n",
       "  <thead>\n",
       "    <tr style=\"text-align: right;\">\n",
       "      <th></th>\n",
       "      <th>atom_types</th>\n",
       "      <th>names</th>\n",
       "    </tr>\n",
       "  </thead>\n",
       "  <tbody>\n",
       "    <tr>\n",
       "      <th>0</th>\n",
       "      <td>opls_116</td>\n",
       "      <td>OW</td>\n",
       "    </tr>\n",
       "    <tr>\n",
       "      <th>1</th>\n",
       "      <td>opls_117</td>\n",
       "      <td>HW1</td>\n",
       "    </tr>\n",
       "    <tr>\n",
       "      <th>2</th>\n",
       "      <td>opls_117</td>\n",
       "      <td>HW2</td>\n",
       "    </tr>\n",
       "  </tbody>\n",
       "</table>\n",
       "</div>"
      ],
      "text/plain": [
       "  atom_types names\n",
       "0   opls_116    OW\n",
       "1   opls_117   HW1\n",
       "2   opls_117   HW2"
      ]
     },
     "execution_count": 18,
     "metadata": {},
     "output_type": "execute_result"
    }
   ],
   "source": [
    "top.to_dataframe()\n"
   ]
  },
  {
   "cell_type": "markdown",
   "metadata": {},
   "source": [
    "## Packaged Force Field"
   ]
  },
  {
   "cell_type": "code",
   "execution_count": 22,
   "metadata": {},
   "outputs": [
    {
     "data": {
      "text/plain": [
       "<ForceField OPLS-AA,\n",
       " 813 AtomTypes,\n",
       " 300 BondTypes,\n",
       " 932 AngleTypes,\n",
       " 1048 DihedralTypes,\n",
       " 0 ImproperType,\n",
       " 0 PairPotentialType,\n",
       " id: 5811259136>"
      ]
     },
     "execution_count": 22,
     "metadata": {},
     "output_type": "execute_result"
    }
   ],
   "source": [
    "oplsaa = gmso.ForceField(\"oplsaa\")\n",
    "oplsaa"
   ]
  },
  {
   "cell_type": "code",
   "execution_count": 24,
   "metadata": {},
   "outputs": [
    {
     "data": {
      "text/plain": [
       "<ForceField Trappe-UA,\n",
       " 11 AtomTypes,\n",
       " 15 BondTypes,\n",
       " 50 AngleTypes,\n",
       " 68 DihedralTypes,\n",
       " 0 ImproperType,\n",
       " 0 PairPotentialType,\n",
       " id: 5827098464>"
      ]
     },
     "execution_count": 24,
     "metadata": {},
     "output_type": "execute_result"
    }
   ],
   "source": [
    "trappeua = gmso.ForceField(\"trappe-ua\")\n",
    "trappeua"
   ]
  },
  {
   "cell_type": "code",
   "execution_count": null,
   "metadata": {},
   "outputs": [],
   "source": []
  }
 ],
 "metadata": {
  "kernelspec": {
   "display_name": "dev",
   "language": "python",
   "name": "python3"
  },
  "language_info": {
   "codemirror_mode": {
    "name": "ipython",
    "version": 3
   },
   "file_extension": ".py",
   "mimetype": "text/x-python",
   "name": "python",
   "nbconvert_exporter": "python",
   "pygments_lexer": "ipython3",
   "version": "3.10.13"
  }
 },
 "nbformat": 4,
 "nbformat_minor": 2
}

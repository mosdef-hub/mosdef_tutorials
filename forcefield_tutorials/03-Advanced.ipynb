{
 "cells": [
  {
   "cell_type": "markdown",
   "metadata": {},
   "source": [
    "# Force Field Tutorial 02: Advanced"
   ]
  },
  {
   "cell_type": "markdown",
   "metadata": {},
   "source": [
    "## Missing Parameters\n",
    "\n",
    "### Visualization of Missing params"
   ]
  },
  {
   "cell_type": "code",
   "execution_count": null,
   "metadata": {},
   "outputs": [],
   "source": []
  },
  {
   "cell_type": "code",
   "execution_count": null,
   "metadata": {},
   "outputs": [],
   "source": []
  },
  {
   "cell_type": "markdown",
   "metadata": {},
   "source": [
    "### Coarse Grained force field  "
   ]
  },
  {
   "cell_type": "markdown",
   "metadata": {},
   "source": [
    "### Wild card types"
   ]
  },
  {
   "cell_type": "markdown",
   "metadata": {},
   "source": [
    "### Mixing Force fields"
   ]
  },
  {
   "cell_type": "markdown",
   "metadata": {},
   "source": [
    "### Setting restraints/rigid \n"
   ]
  },
  {
   "cell_type": "markdown",
   "metadata": {},
   "source": [
    "### Availble Force Field"
   ]
  },
  {
   "cell_type": "markdown",
   "metadata": {},
   "source": [
    "## Supported Functional Forms"
   ]
  },
  {
   "cell_type": "code",
   "execution_count": 2,
   "metadata": {},
   "outputs": [
    {
     "name": "stdout",
     "output_type": "stream",
     "text": [
      "PeriodicImproperPotential\n"
     ]
    },
    {
     "data": {
      "text/latex": [
       "$\\displaystyle k \\left(\\cos{\\left(n \\phi - \\phi_{eq} \\right)} + 1\\right)$"
      ],
      "text/plain": [
       "k*(cos(n*phi - phi_eq) + 1)"
      ]
     },
     "metadata": {},
     "output_type": "display_data"
    },
    {
     "name": "stdout",
     "output_type": "stream",
     "text": [
      "\n",
      "RyckaertBellemansTorsionPotential\n"
     ]
    },
    {
     "data": {
      "text/latex": [
       "$\\displaystyle c_{0} + c_{1} \\cos{\\left(\\phi \\right)} + c_{2} \\cos^{2}{\\left(\\phi \\right)} + c_{3} \\cos^{3}{\\left(\\phi \\right)} + c_{4} \\cos^{4}{\\left(\\phi \\right)} + c_{5} \\cos^{5}{\\left(\\phi \\right)}$"
      ],
      "text/plain": [
       "c0 + c1*cos(phi) + c2*cos(phi)**2 + c3*cos(phi)**3 + c4*cos(phi)**4 + c5*cos(phi)**5"
      ]
     },
     "metadata": {},
     "output_type": "display_data"
    },
    {
     "name": "stdout",
     "output_type": "stream",
     "text": [
      "\n",
      "PeriodicTorsionPotential\n"
     ]
    },
    {
     "data": {
      "text/latex": [
       "$\\displaystyle k \\left(\\cos{\\left(n \\phi - \\phi_{eq} \\right)} + 1\\right)$"
      ],
      "text/plain": [
       "k*(cos(n*phi - phi_eq) + 1)"
      ]
     },
     "metadata": {},
     "output_type": "display_data"
    },
    {
     "name": "stdout",
     "output_type": "stream",
     "text": [
      "\n",
      "MiePotential\n"
     ]
    },
    {
     "data": {
      "text/latex": [
       "$\\displaystyle \\frac{\\epsilon n \\left(\\frac{n}{m}\\right)^{\\frac{m}{- m + n}} \\left(- \\left(\\frac{\\sigma}{r}\\right)^{m} + \\left(\\frac{\\sigma}{r}\\right)^{n}\\right)}{- m + n}$"
      ],
      "text/plain": [
       "epsilon*n*(n/m)**(m/(-m + n))*(-(sigma/r)**m + (sigma/r)**n)/(-m + n)"
      ]
     },
     "metadata": {},
     "output_type": "display_data"
    },
    {
     "name": "stdout",
     "output_type": "stream",
     "text": [
      "\n",
      "HarmonicAnglePotential\n"
     ]
    },
    {
     "data": {
      "text/latex": [
       "$\\displaystyle 0.5 k \\left(\\theta - \\theta_{eq}\\right)^{2}$"
      ],
      "text/plain": [
       "0.5*k*(theta - theta_eq)**2"
      ]
     },
     "metadata": {},
     "output_type": "display_data"
    },
    {
     "name": "stdout",
     "output_type": "stream",
     "text": [
      "\n",
      "HarmonicBondPotential\n"
     ]
    },
    {
     "data": {
      "text/latex": [
       "$\\displaystyle 0.5 k \\left(r - r_{eq}\\right)^{2}$"
      ],
      "text/plain": [
       "0.5*k*(r - r_eq)**2"
      ]
     },
     "metadata": {},
     "output_type": "display_data"
    },
    {
     "name": "stdout",
     "output_type": "stream",
     "text": [
      "\n",
      "FixedBondPotential\n"
     ]
    },
    {
     "data": {
      "text/latex": [
       "$\\displaystyle \\delta\\left(r - r_{eq}\\right)$"
      ],
      "text/plain": [
       "DiracDelta(r - r_eq)"
      ]
     },
     "metadata": {},
     "output_type": "display_data"
    },
    {
     "name": "stdout",
     "output_type": "stream",
     "text": [
      "\n",
      "FourierTorsionPotential\n"
     ]
    },
    {
     "data": {
      "text/latex": [
       "$\\displaystyle 0.5 k_{0} + 0.5 k_{1} \\left(\\cos{\\left(\\phi \\right)} + 1\\right) + 0.5 k_{2} \\cdot \\left(1 - \\cos{\\left(2 \\phi \\right)}\\right) + 0.5 k_{3} \\left(\\cos{\\left(3 \\phi \\right)} + 1\\right) + 0.5 k_{4} \\cdot \\left(1 - \\cos{\\left(4 \\phi \\right)}\\right)$"
      ],
      "text/plain": [
       "0.5*k0 + 0.5*k1*(cos(phi) + 1) + 0.5*k2*(1 - cos(2*phi)) + 0.5*k3*(cos(3*phi) + 1) + 0.5*k4*(1 - cos(4*phi))"
      ]
     },
     "metadata": {},
     "output_type": "display_data"
    },
    {
     "name": "stdout",
     "output_type": "stream",
     "text": [
      "\n",
      "OPLSTorsionPotential\n"
     ]
    },
    {
     "data": {
      "text/latex": [
       "$\\displaystyle 0.5 k_{1} \\left(\\cos{\\left(\\phi \\right)} + 1\\right) + 0.5 k_{2} \\cdot \\left(1 - \\cos{\\left(2 \\phi \\right)}\\right) + 0.5 k_{3} \\left(\\cos{\\left(3 \\phi \\right)} + 1\\right) + 0.5 k_{4} \\cdot \\left(1 - \\cos{\\left(4 \\phi \\right)}\\right)$"
      ],
      "text/plain": [
       "0.5*k1*(cos(phi) + 1) + 0.5*k2*(1 - cos(2*phi)) + 0.5*k3*(cos(3*phi) + 1) + 0.5*k4*(1 - cos(4*phi))"
      ]
     },
     "metadata": {},
     "output_type": "display_data"
    },
    {
     "name": "stdout",
     "output_type": "stream",
     "text": [
      "\n",
      "HarmonicTorsionPotential\n"
     ]
    },
    {
     "data": {
      "text/latex": [
       "$\\displaystyle 0.5 k \\left(\\phi - \\phi_{eq}\\right)^{2}$"
      ],
      "text/plain": [
       "0.5*k*(phi - phi_eq)**2"
      ]
     },
     "metadata": {},
     "output_type": "display_data"
    },
    {
     "name": "stdout",
     "output_type": "stream",
     "text": [
      "\n",
      "LAMMPSHarmonicAnglePotential\n"
     ]
    },
    {
     "data": {
      "text/latex": [
       "$\\displaystyle k \\left(\\theta - \\theta_{eq}\\right)^{2}$"
      ],
      "text/plain": [
       "k*(theta - theta_eq)**2"
      ]
     },
     "metadata": {},
     "output_type": "display_data"
    },
    {
     "name": "stdout",
     "output_type": "stream",
     "text": [
      "\n",
      "LennardJonesPotential\n"
     ]
    },
    {
     "data": {
      "text/latex": [
       "$\\displaystyle 4 \\epsilon \\left(- \\frac{\\sigma^{6}}{r^{6}} + \\frac{\\sigma^{12}}{r^{12}}\\right)$"
      ],
      "text/plain": [
       "4*epsilon*(-sigma**6/r**6 + sigma**12/r**12)"
      ]
     },
     "metadata": {},
     "output_type": "display_data"
    },
    {
     "name": "stdout",
     "output_type": "stream",
     "text": [
      "\n",
      "FixedAnglePotential\n"
     ]
    },
    {
     "data": {
      "text/latex": [
       "$\\displaystyle \\delta\\left(\\theta - \\theta_{eq}\\right)$"
      ],
      "text/plain": [
       "DiracDelta(theta - theta_eq)"
      ]
     },
     "metadata": {},
     "output_type": "display_data"
    },
    {
     "name": "stdout",
     "output_type": "stream",
     "text": [
      "\n",
      "LAMMPSHarmonicBondPotential\n"
     ]
    },
    {
     "data": {
      "text/latex": [
       "$\\displaystyle k \\left(r - r_{eq}\\right)^{2}$"
      ],
      "text/plain": [
       "k*(r - r_eq)**2"
      ]
     },
     "metadata": {},
     "output_type": "display_data"
    },
    {
     "name": "stdout",
     "output_type": "stream",
     "text": [
      "\n",
      "BuckinghamPotential\n"
     ]
    },
    {
     "data": {
      "text/latex": [
       "$\\displaystyle a e^{- b r} - \\frac{c}{r^{6}}$"
      ],
      "text/plain": [
       "a*exp(-b*r) - c/r**6"
      ]
     },
     "metadata": {},
     "output_type": "display_data"
    },
    {
     "name": "stdout",
     "output_type": "stream",
     "text": [
      "\n",
      "HarmonicImproperPotential\n"
     ]
    },
    {
     "data": {
      "text/latex": [
       "$\\displaystyle 0.5 k \\left(\\phi - \\phi_{eq}\\right)^{2}$"
      ],
      "text/plain": [
       "0.5*k*(phi - phi_eq)**2"
      ]
     },
     "metadata": {},
     "output_type": "display_data"
    },
    {
     "name": "stdout",
     "output_type": "stream",
     "text": [
      "\n"
     ]
    }
   ],
   "source": [
    "import gmso\n",
    "from gmso.lib.potential_templates import PotentialTemplateLibrary\n",
    "\n",
    "available_templates = PotentialTemplateLibrary()\n",
    "\n",
    "for template in available_templates.get_available_template_names():\n",
    "    print(template)\n",
    "    display(available_templates[template].expression)\n",
    "    print()\n"
   ]
  },
  {
   "cell_type": "code",
   "execution_count": null,
   "metadata": {},
   "outputs": [],
   "source": []
  }
 ],
 "metadata": {
  "kernelspec": {
   "display_name": "dev",
   "language": "python",
   "name": "python3"
  },
  "language_info": {
   "codemirror_mode": {
    "name": "ipython",
    "version": 3
   },
   "file_extension": ".py",
   "mimetype": "text/x-python",
   "name": "python",
   "nbconvert_exporter": "python",
   "pygments_lexer": "ipython3",
   "version": "3.10.13"
  }
 },
 "nbformat": 4,
 "nbformat_minor": 2
}

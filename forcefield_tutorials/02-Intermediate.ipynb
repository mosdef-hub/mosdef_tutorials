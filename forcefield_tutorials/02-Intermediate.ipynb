{
 "cells": [
  {
   "cell_type": "markdown",
   "metadata": {},
   "source": [
    "# Force Field Tutorial 01: Intermediate"
   ]
  },
  {
   "cell_type": "markdown",
   "metadata": {},
   "source": [
    "## Inspecting XML file"
   ]
  },
  {
   "cell_type": "code",
   "execution_count": 14,
   "metadata": {},
   "outputs": [
    {
     "name": "stdout",
     "output_type": "stream",
     "text": [
      "<ForceField version=\"0.0.1\" name=\"SPC/E Water\" combining_rule=\"geometric\">\n",
      " <AtomTypes>\n",
      "   <Type name=\"opls_116\" class=\"OW\" element=\"O\" mass=\"15.99940\" def=\"[O;X2](H)(H)\" desc=\"SPC/E Oxygen\" doi=\"10.1021/j100308a038\"/>\n",
      "   <Type name=\"opls_117\" class=\"HW\" element=\"H\" mass=\"1.00800\" def=\"[H;X1][O;X2](H)\" desc=\"SPC/E Hydrogen\" doi=\"10.1021/j100308a038\"/>\n",
      " </AtomTypes>\n",
      " <HarmonicBondForce>\n",
      "   <Bond class1=\"OW\" class2=\"HW\" length=\"0.100\" k=\"345000.0\"/>\n",
      " </HarmonicBondForce>\n",
      " <HarmonicAngleForce>\n",
      "   <Angle class1=\"HW\" class2=\"OW\" class3=\"HW\" angle=\"1.91061193\" k=\"383.0\"/>\n",
      " </HarmonicAngleForce>\n",
      " <NonbondedForce coulomb14scale=\"0.5\" lj14scale=\"0.5\">\n",
      "  <Atom type=\"opls_116\" charge=\"-0.8476\" sigma=\"0.316557\" epsilon=\"0.650194\"/>\n",
      "  <Atom type=\"opls_117\" charge=\"0.4238\" sigma=\"0.0\" epsilon=\"0.0\"/>\n",
      " </NonbondedForce>\n",
      "</ForceField>\n"
     ]
    }
   ],
   "source": [
    "cat utils/foyer_spce.xml"
   ]
  },
  {
   "cell_type": "code",
   "execution_count": 15,
   "metadata": {},
   "outputs": [
    {
     "name": "stdout",
     "output_type": "stream",
     "text": [
      "<?xml version='1.0' encoding='UTF-8'?>\n",
      "<ForceField name=\"SPC/E Water\" version=\"0.0.1\">\n",
      "  <FFMetaData electrostatics14Scale=\"0.5\" nonBonded14Scale=\"0.5\" combiningRule=\"geometric\">\n",
      "    <Units energy=\"kJ\" distance=\"nm\" mass=\"amu\" charge=\"elementary_charge\"/>\n",
      "  </FFMetaData>\n",
      "  <AtomTypes expression=\"4*epsilon*(-sigma**6/r**6 + sigma**12/r**12)\">\n",
      "    <ParametersUnitDef parameter=\"epsilon\" unit=\"kJ/mol\"/>\n",
      "    <ParametersUnitDef parameter=\"sigma\" unit=\"nm\"/>\n",
      "    <AtomType name=\"opls_116\" mass=\"15.9994\" charge=\"-0.8476\" atomclass=\"OW\" doi=\"10.1021/j100308a038\" definition=\"[O;X2](H)(H)\" description=\"SPC/E Oxygen\">\n",
      "      <Parameters>\n",
      "        <Parameter name=\"epsilon\" value=\"0.650194\"/>\n",
      "        <Parameter name=\"sigma\" value=\"0.316557\"/>\n",
      "      </Parameters>\n",
      "    </AtomType>\n",
      "    <AtomType name=\"opls_117\" mass=\"1.008\" charge=\"0.4238\" atomclass=\"HW\" doi=\"10.1021/j100308a038\" definition=\"[H;X1][O;X2](H)\" description=\"SPC/E Hydrogen\">\n",
      "      <Parameters>\n",
      "        <Parameter name=\"epsilon\" value=\"0.0\"/>\n",
      "        <Parameter name=\"sigma\" value=\"0.0\"/>\n",
      "      </Parameters>\n",
      "    </AtomType>\n",
      "  </AtomTypes>\n",
      "  <BondTypes expression=\"0.5*k*(r - r_eq)**2\">\n",
      "    <ParametersUnitDef parameter=\"k\" unit=\"kJ/(mol*nm**2)\"/>\n",
      "    <ParametersUnitDef parameter=\"r_eq\" unit=\"nm\"/>\n",
      "    <BondType name=\"HarmonicBondPotential\" class1=\"OW\" class2=\"HW\">\n",
      "      <Parameters>\n",
      "        <Parameter name=\"k\" value=\"345000.0\"/>\n",
      "        <Parameter name=\"r_eq\" value=\"0.1\"/>\n",
      "      </Parameters>\n",
      "    </BondType>\n",
      "  </BondTypes>\n",
      "  <AngleTypes expression=\"0.5*k*(theta - theta_eq)**2\">\n",
      "    <ParametersUnitDef parameter=\"k\" unit=\"kJ/(mol*rad**2)\"/>\n",
      "    <ParametersUnitDef parameter=\"theta_eq\" unit=\"rad\"/>\n",
      "    <AngleType name=\"HarmonicAnglePotential\" class1=\"HW\" class2=\"OW\" class3=\"HW\">\n",
      "      <Parameters>\n",
      "        <Parameter name=\"k\" value=\"383.0\"/>\n",
      "        <Parameter name=\"theta_eq\" value=\"1.91061193\"/>\n",
      "      </Parameters>\n",
      "    </AngleType>\n",
      "  </AngleTypes>\n",
      "</ForceField>\n"
     ]
    }
   ],
   "source": [
    "cat utils/gmso_spce.xml"
   ]
  },
  {
   "cell_type": "markdown",
   "metadata": {},
   "source": [
    "## SMARTS String"
   ]
  },
  {
   "cell_type": "markdown",
   "metadata": {},
   "source": [
    "### Defining SMARTS\n",
    "Focusing first on atom type `opls_140`, the SMARTS string, `def=\"H[C;X4]\"`, states that this atom-type applies when:\n",
    "- The element is hydrogen, i.e., `H`\n",
    "- When that hydrogen is connected to a carbon that has 4 neighbors, i.e., `[C;X4]`\n",
    "\n",
    "Similarly, for atom type `opls_138`, the SMARTS string, `def=\"[C;X4](H)(H)(H)H\"`, states that this atom-type applies when:\n",
    "- The element is carbon, with 4 neighbors, i.e., `[C;X4]`\n",
    "- 4 of those neighbors are hydrogens, i.e., `(H)(H)(H)H`\n",
    "\n",
    "For atom type `opls_136`, the SMARTS string, `def=\"[C;X4](H)H\"`, states that this atom-type applies when:\n",
    "- The element is carbon, with 4 neighbors, i.e., `[C;X4]`\n",
    "- At least 2 of those neighbors are hydrogens, i.e., `(H)H`\n",
    "\n",
    "For atom type `opls_135`, the SMARTS string, `def=\"[C;X4](H)(H)H\"`, states that this atom-type applies when:\n",
    "- The element is carbon, with 4 neighbors, i.e., `[C;X4]`\n",
    "- At least 3 of those neighbors are hydrogens, i.e., `(H)(H)H`\n",
    "\n",
    "### Atomtyping using SMARTS\n",
    "Let us now consider using these rules to atom-type the carbon in methane (i.e., CH4).\n",
    "\n",
    "- `opls_138` would obviously evaluate to `True`, as it is defined for a carbon, with 4 hydrogen neighbors. \n",
    "- `opls_135` and `opls_136` would also evaulate to `True`.  In the case of opls_135, our definition only states that at least 3 of the neighbors are hydrogen, and have not made any specific claims about the identity of the 4th neighbor; similarly, for opls_136, we have only stated that 2 neighbors must be hydrogen and not specified the identity of the other 2 neighbors. \n",
    "\n",
    "This is an important feature of Foyer to take note of.  Foyer will evaluate all the rules in a forcefield file, rather than just stopping at the first rule that evaluates to `True`. This allows rules to be defined in any order.  Furthermore, Foyer iterates over the rules, which allows recursive definitions of usage, i.e., referring to specific atom-types in the SMARTS string. \n",
    "\n",
    "### Overrides\n",
    "We will discuss two ways to address this. One approach is to employ `overrides`.  `overrides` provide a means to dictate rule precedence (i.e., which rules are more specific than others).  In the force field file above, `opls_138` has defined: `overrides=\"opls_135,opls_136\"`.  That is, if `opls_138` evaluates to `True`, then it takes precedence over `opls_135` and `opls_136`, even if they evaluate to `True`. \n",
    "\n",
    "Similarly, if opls_136 evaluates to `True`, it `overrides=\"opls_136\"`, thus taking precedence. \n",
    "\n",
    "`overrides` are especially useful if the chemical context of two different atom-types are effectively the same.  E.g., the terminal methyl group in an alkane has the same first neighbor environment as the methyl group in toluene, however the parameters (and thus atom-type) are different. Thus `overrides` can be used to state that if the more specific toluene rule evaluates to `True` it should take precedences over the more general alkane rule (as shown below):\n",
    "\n",
    "<img src=\"utils/ch3-toluene.png\" alt=\"Drawing\" style=\"width: 700px;\"/>\n",
    "\n",
    "### Better SMARTS definitions\n",
    "In many cases, `overrides` can be avoided by simply providing more specific SMARTS strings.  For example, the rules for `opls_135`, `opls_136`, and `opls_138` above can be made more specific by stating the identify of the other neighbors besides carbon and thus eliminate the need for `overrides`, as shown below. "
   ]
  },
  {
   "cell_type": "code",
   "execution_count": 17,
   "metadata": {},
   "outputs": [
    {
     "name": "stdout",
     "output_type": "stream",
     "text": [
      "    <AtomTypes>\n",
      "        <Type name=\"opls_135\" def=\"[C;X4](H)(H)(H)C\"\n",
      "              class=\"CT\" element=\"C\" mass=\"12.01100\" desc=\"alkane CH3\"\n",
      "              doi=\"10.1021/ja9621760\"/>\n",
      "\n",
      "        <Type name=\"opls_136\" def=\"[C;X4](H)(H)(C)C\"\n",
      "              class=\"CT\" element=\"C\" mass=\"12.01100\" desc=\"alkane CH2\"\n",
      "              doi=\"10.1021/ja9621760\"/>\n",
      "\n",
      "        <Type name=\"opls_138\" def=\"[C;X4](H)(H)(H)H\"\n",
      "              class=\"CT\" element=\"C\" mass=\"12.01100\" desc=\"alkane CH4\"\n",
      "              doi=\"10.1021/ja9621760\"/>\n",
      "\n",
      "        <Type name=\"opls_140\" def=\"H[C;X4]\"\n",
      "              class=\"HC\" element=\"H\" mass=\"1.00800\" desc=\"alkane H\"\n",
      "              doi=\"10.1021/ja9621760\"/>\n",
      "    </AtomTypes>\n"
     ]
    }
   ],
   "source": [
    "! sed -n 2,18p utils/OPLSaa_alkanes2.xml"
   ]
  },
  {
   "cell_type": "markdown",
   "metadata": {},
   "source": [
    "Note that SMARTS can be used to define more than just the immediate local pattern. Recall the definition for `opls_140`, `def='H[C;X4]'`. This definition states not only that the element is hydrogen and is bonded to a carbon, but that the carbon it is bonded to has 4 total bonds. If necessary, the identify of those bonded neighbors could  be specified. \n",
    "\n",
    "Additionally, we note that since this force field only has a single hydrogen atom-type, the definition could actually be made less specific, i.e., `def='H'`, and still produce the correct output.  \n",
    "\n",
    "Thus, it is important to keep in mind that there are multiple valid SMARTS definitions that can be provided for a given atom-type; the specificity of the SMARTS definition and whether or not `overrides` are necessary will depend on the chemical context of the parameters themselves, the number of atom-types included in a forcefield, the intended usage of the forcefield, and the personal preferences of the individual(s) defining the forcefield.   "
   ]
  },
  {
   "cell_type": "markdown",
   "metadata": {},
   "source": [
    "## Other Metadata"
   ]
  },
  {
   "cell_type": "code",
   "execution_count": 6,
   "metadata": {},
   "outputs": [
    {
     "name": "stderr",
     "output_type": "stream",
     "text": [
      "/Users/quachcd/Documents/dev/mosdef/mbuild/mbuild/recipes/__init__.py:13: DeprecationWarning: SelectableGroups dict interface is deprecated. Use select.\n",
      "  entry_points = metadata.entry_points()[\"mbuild.plugins\"]\n"
     ]
    }
   ],
   "source": [
    "import mbuild as mb\n",
    "import gmso\n",
    "from gmso.parameterization import apply\n"
   ]
  },
  {
   "cell_type": "code",
   "execution_count": 7,
   "metadata": {},
   "outputs": [
    {
     "name": "stdout",
     "output_type": "stream",
     "text": [
      "<Topology Topology, 8 sites, id: 5541541776>\n"
     ]
    }
   ],
   "source": [
    "ethane = mb.load(\"CC\", smiles=True)\n",
    "ethane_top = ethane.to_gmso()\n",
    "ethane_top.identify_connections()\n",
    "print(ethane_top)"
   ]
  },
  {
   "cell_type": "code",
   "execution_count": 8,
   "metadata": {},
   "outputs": [
    {
     "name": "stdout",
     "output_type": "stream",
     "text": [
      "Combining rule: lorentz\n",
      "LJ scaling factor: [0.  0.  0.5]\n",
      "Electrostatics scaling factor: [0.  0.  0.5]\n"
     ]
    }
   ],
   "source": [
    "# Default settings\n",
    "print(\"Combining rule:\", ethane_top.combining_rule)\n",
    "print(\"LJ scaling factor:\", ethane_top.scaling_factors[0])\n",
    "print(\"Electrostatics scaling factor:\", ethane_top.scaling_factors[0])"
   ]
  },
  {
   "cell_type": "code",
   "execution_count": 9,
   "metadata": {},
   "outputs": [
    {
     "name": "stderr",
     "output_type": "stream",
     "text": [
      "/Users/quachcd/Documents/dev/mosdef/gmso/gmso/core/atom_type.py:243: UserWarning: Masses are assumed to be in units of g/mol\n",
      "  warnings.warn(UNIT_WARNING_STRING.format(\"Masses\", \"g/mol\"))\n",
      "/Users/quachcd/Documents/dev/mosdef/gmso/gmso/core/atom_type.py:255: UserWarning: Charges are assumed to be in units of elementary charge\n",
      "  warnings.warn(\n"
     ]
    },
    {
     "name": "stdout",
     "output_type": "stream",
     "text": [
      "Combining Rule: geometric\n",
      "Scaling Facors: {'electrostatics14Scale': 0.5, 'nonBonded14Scale': 0.5}\n"
     ]
    }
   ],
   "source": [
    "oplsaa = gmso.ForceField(\"oplsaa\")\n",
    "print(\"Combining Rule:\", oplsaa.combining_rule)\n",
    "print(\"Scaling Facors:\", oplsaa.scaling_factors)"
   ]
  },
  {
   "cell_type": "code",
   "execution_count": 10,
   "metadata": {},
   "outputs": [
    {
     "name": "stdout",
     "output_type": "stream",
     "text": [
      "<Topology Topology, 8 sites, id: 5541541776>\n"
     ]
    },
    {
     "name": "stderr",
     "output_type": "stream",
     "text": [
      "/Users/quachcd/Documents/dev/mosdef/gmso/gmso/core/forcefield.py:530: UserWarning: ImproperType between atoms CT, CT, HC and HC is missing from the ForceField.\n",
      "  warnings.warn(msg)\n",
      "/Users/quachcd/Documents/dev/mosdef/gmso/gmso/core/forcefield.py:530: UserWarning: ImproperType between atoms opls_135, opls_135, opls_140 and opls_140 is missing from the ForceField.\n",
      "  warnings.warn(msg)\n",
      "/Users/quachcd/Documents/dev/mosdef/gmso/gmso/core/forcefield.py:530: UserWarning: ImproperType between atoms CT, HC, HC and HC is missing from the ForceField.\n",
      "  warnings.warn(msg)\n",
      "/Users/quachcd/Documents/dev/mosdef/gmso/gmso/core/forcefield.py:530: UserWarning: ImproperType between atoms opls_135, opls_140, opls_140 and opls_140 is missing from the ForceField.\n",
      "  warnings.warn(msg)\n",
      "/Users/quachcd/Documents/dev/mosdef/gmso/gmso/core/topology.py:818: DeprecationWarning: Conversion of an array with ndim > 0 to a scalar is deprecated, and will error in future. Ensure you extract a single element from your array before performing this operation. (Deprecated NumPy 1.25.)\n",
      "  all_scales[index][scaling_interaction_idxes[interaction]] = value\n",
      "/Users/quachcd/Documents/dev/mosdef/gmso/gmso/core/topology.py:818: DeprecationWarning: Conversion of an array with ndim > 0 to a scalar is deprecated, and will error in future. Ensure you extract a single element from your array before performing this operation. (Deprecated NumPy 1.25.)\n",
      "  all_scales[index][scaling_interaction_idxes[interaction]] = value\n"
     ]
    }
   ],
   "source": [
    "ethane_top = apply(ethane_top, oplsaa)\n",
    "ethane_top"
   ]
  },
  {
   "cell_type": "code",
   "execution_count": 13,
   "metadata": {},
   "outputs": [
    {
     "name": "stdout",
     "output_type": "stream",
     "text": [
      "Combining rule: geometric\n",
      "LJ scaling factor: [0.  0.  0.5]\n",
      "Electrostatics scaling factor: [0.  0.  0.5]\n"
     ]
    }
   ],
   "source": [
    "# After typing\n",
    "print(\"Combining rule:\", ethane_top.combining_rule)\n",
    "print(\"LJ scaling factor:\", ethane_top.scaling_factors[0])\n",
    "print(\"Electrostatics scaling factor:\", ethane_top.scaling_factors[0])"
   ]
  },
  {
   "cell_type": "code",
   "execution_count": null,
   "metadata": {},
   "outputs": [],
   "source": []
  }
 ],
 "metadata": {
  "kernelspec": {
   "display_name": "dev",
   "language": "python",
   "name": "python3"
  },
  "language_info": {
   "codemirror_mode": {
    "name": "ipython",
    "version": 3
   },
   "file_extension": ".py",
   "mimetype": "text/x-python",
   "name": "python",
   "nbconvert_exporter": "python",
   "pygments_lexer": "ipython3",
   "version": "3.10.13"
  }
 },
 "nbformat": 4,
 "nbformat_minor": 2
}
